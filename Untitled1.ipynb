{
 "cells": [
  {
   "cell_type": "code",
   "execution_count": null,
   "id": "revolutionary-librarian",
   "metadata": {},
   "outputs": [],
   "source": [
    "##################################################################################\n",
    "#         U B E R   Y   O T R O S   S E R V I C I O S                            #\n",
    "#                                                                                #\n",
    "#                    Análisis de datos parte II                                  #\n",
    "##################################################################################"
   ]
  },
  {
   "cell_type": "code",
   "execution_count": 1,
   "id": "optical-constitution",
   "metadata": {},
   "outputs": [
    {
     "ename": "ModuleNotFoundError",
     "evalue": "No module named 'pandas'",
     "output_type": "error",
     "traceback": [
      "\u001b[1;31m---------------------------------------------------------------------------\u001b[0m",
      "\u001b[1;31mModuleNotFoundError\u001b[0m                       Traceback (most recent call last)",
      "\u001b[1;32m<ipython-input-1-72d939472adb>\u001b[0m in \u001b[0;36m<module>\u001b[1;34m\u001b[0m\n\u001b[0;32m      1\u001b[0m \u001b[1;31m# Carga de librerias\u001b[0m\u001b[1;33m\u001b[0m\u001b[1;33m\u001b[0m\u001b[1;33m\u001b[0m\u001b[0m\n\u001b[1;32m----> 2\u001b[1;33m \u001b[1;32mimport\u001b[0m \u001b[0mpandas\u001b[0m \u001b[1;32mas\u001b[0m \u001b[0mpd\u001b[0m\u001b[1;33m\u001b[0m\u001b[1;33m\u001b[0m\u001b[0m\n\u001b[0m\u001b[0;32m      3\u001b[0m \u001b[1;32mimport\u001b[0m \u001b[0mseaborn\u001b[0m \u001b[1;32mas\u001b[0m \u001b[0msns\u001b[0m\u001b[1;33m\u001b[0m\u001b[1;33m\u001b[0m\u001b[0m\n\u001b[0;32m      4\u001b[0m \u001b[1;32mimport\u001b[0m \u001b[0mmatplotlib\u001b[0m\u001b[1;33m.\u001b[0m\u001b[0mpyplot\u001b[0m \u001b[1;32mas\u001b[0m \u001b[0mplt\u001b[0m\u001b[1;33m\u001b[0m\u001b[1;33m\u001b[0m\u001b[0m\n\u001b[0;32m      5\u001b[0m \u001b[1;32mimport\u001b[0m \u001b[0mfolium\u001b[0m\u001b[1;33m\u001b[0m\u001b[1;33m\u001b[0m\u001b[0m\n",
      "\u001b[1;31mModuleNotFoundError\u001b[0m: No module named 'pandas'"
     ]
    }
   ],
   "source": [
    "# Carga de librerias\n",
    "import pandas as pd\n",
    "import seaborn as sns\n",
    "import matplotlib.pyplot as plt\n",
    "import folium"
   ]
  },
  {
   "cell_type": "code",
   "execution_count": null,
   "id": "electric-packet",
   "metadata": {},
   "outputs": [],
   "source": [
    "df_travels_ubers_2014_clean = pd.read_csv('Dataset_UberViajes_limpio.csv', index_col=0)\n",
    "\n",
    "df_travels_ubers_2014_clean.head()"
   ]
  },
  {
   "cell_type": "code",
   "execution_count": null,
   "id": "increasing-subsection",
   "metadata": {},
   "outputs": [],
   "source": [
    "nueva_york_mapa = folium.Map(location=[40.7128, -74.0060], zoom_start=10)\n",
    "\n",
    "# add markers to map\n",
    "for lat, lng in zip(df_travels_ubers_2014_clean['Latitud'], df_travels_ubers_2014_clean['Longitud']):\n",
    "    \n",
    "    folium.CircleMarker(\n",
    "        [lat, lng],\n",
    "        radius=5,\n",
    "        fill=True,\n",
    "        fill_color='YlGn',\n",
    "        fill_opacity=0.7,\n",
    "        parse_html=False).add_to(nueva_york_mapa)  \n",
    "    \n",
    "nueva_york_mapa"
   ]
  },
  {
   "cell_type": "code",
   "execution_count": null,
   "id": "better-preparation",
   "metadata": {},
   "outputs": [],
   "source": []
  }
 ],
 "metadata": {
  "kernelspec": {
   "display_name": "Python 3",
   "language": "python",
   "name": "python3"
  },
  "language_info": {
   "codemirror_mode": {
    "name": "ipython",
    "version": 3
   },
   "file_extension": ".py",
   "mimetype": "text/x-python",
   "name": "python",
   "nbconvert_exporter": "python",
   "pygments_lexer": "ipython3",
   "version": "3.8.5"
  }
 },
 "nbformat": 4,
 "nbformat_minor": 5
}
