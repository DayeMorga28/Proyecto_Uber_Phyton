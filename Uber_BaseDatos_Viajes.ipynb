{
 "cells": [
  {
   "cell_type": "markdown",
   "id": "operating-vanilla",
   "metadata": {
    "colab_type": "text",
    "id": "view-in-github"
   },
   "source": [
    "<a href=\"https://colab.research.google.com/github/DayeMorga28/Proyecto_Uber_Phyton/blob/main/Uber_BaseDatos_Viajes.ipynb\" target=\"_parent\"><img src=\"https://colab.research.google.com/assets/colab-badge.svg\" alt=\"Open In Colab\"/></a>"
   ]
  },
  {
   "cell_type": "code",
   "execution_count": null,
   "id": "exterior-secondary",
   "metadata": {
    "id": "exterior-secondary"
   },
   "outputs": [],
   "source": [
    "##################################################################################\n",
    "#         U B E R   Y   O T R O S   S E R V I C I O S                            #\n",
    "#                                                                                #\n",
    "#                    Procesamiento de datos                                      #\n",
    "##################################################################################\n"
   ]
  },
  {
   "cell_type": "code",
   "execution_count": 1,
   "id": "superb-quality",
   "metadata": {
    "id": "superb-quality"
   },
   "outputs": [],
   "source": [
    "# Carga de librerias\n",
    "import pandas as pd"
   ]
  },
  {
   "cell_type": "code",
   "execution_count": 2,
   "id": "spp5SPATtCkR",
   "metadata": {
    "colab": {
     "base_uri": "https://localhost:8080/",
     "height": 35
    },
    "id": "spp5SPATtCkR",
    "outputId": "cd3030fa-19df-44c6-93ae-7e9794cf657d"
   },
   "outputs": [
    {
     "data": {
      "text/plain": [
       "'https://raw.githubusercontent.com/DayeMorga28/Proyecto_Uber_Phyton/main/uber-raw-data-1014.csv'"
      ]
     },
     "execution_count": 2,
     "metadata": {},
     "output_type": "execute_result"
    }
   ],
   "source": [
    "i = 10\n",
    "url = 'https://raw.githubusercontent.com/DayeMorga28/Proyecto_Uber_Phyton/main/uber-raw-data-'+str(i)+'14.csv'\n",
    "url"
   ]
  },
  {
   "cell_type": "code",
   "execution_count": 3,
   "id": "homeless-pavilion",
   "metadata": {
    "colab": {
     "base_uri": "https://localhost:8080/"
    },
    "id": "homeless-pavilion",
    "outputId": "215b1374-3eba-4541-ae76-cd3f8d6f511e"
   },
   "outputs": [
    {
     "name": "stderr",
     "output_type": "stream",
     "text": [
      "e:\\users\\dmorga\\miniconda3\\envs\\bedu_ambiente\\lib\\site-packages\\IPython\\core\\interactiveshell.py:3165: DtypeWarning: Columns (0,3) have mixed types.Specify dtype option on import or set low_memory=False.\n",
      "  has_raised = await self.run_ast_nodes(code_ast.body, cell_name,\n"
     ]
    }
   ],
   "source": [
    "# 2. Carga de datos de viajes de 2014.\n",
    "\n",
    "dict_datos = {}\n",
    "\n",
    "for i in range(4, 15):\n",
    "  try:\n",
    "    if (i < 10):\n",
    "      url = 'https://raw.githubusercontent.com/DayeMorga28/Proyecto_Uber_Phyton/main/uber-raw-data-0'+str(i)+'14.csv'\n",
    "    else:\n",
    "      url = 'https://raw.githubusercontent.com/DayeMorga28/Proyecto_Uber_Phyton/main/uber-raw-data-'+str(i)+'14.csv'\n",
    "    df_travels = pd.read_csv(url)\n",
    "    dict_datos[i-4] = df_travels\n",
    "  except:\n",
    "    continue\n"
   ]
  },
  {
   "cell_type": "code",
   "execution_count": 4,
   "id": "hyE6Qj8ci8yh",
   "metadata": {
    "id": "hyE6Qj8ci8yh"
   },
   "outputs": [],
   "source": [
    "lista_de_dataframes = []\n",
    "\n",
    "for i in range(0, 11):\n",
    "    lista_de_dataframes.append(dict_datos[i])"
   ]
  },
  {
   "cell_type": "code",
   "execution_count": 5,
   "id": "fUSR0TmS0mos",
   "metadata": {
    "id": "fUSR0TmS0mos"
   },
   "outputs": [],
   "source": [
    "df_travels_ubers_2014 = pd.concat(lista_de_dataframes, axis=0).reset_index(drop=True)"
   ]
  },
  {
   "cell_type": "code",
   "execution_count": 6,
   "id": "SXWq3nlZAWIt",
   "metadata": {
    "colab": {
     "base_uri": "https://localhost:8080/",
     "height": 204
    },
    "id": "SXWq3nlZAWIt",
    "outputId": "0ce2cab3-5166-494f-b4dd-9c43af871a6a"
   },
   "outputs": [
    {
     "data": {
      "text/html": [
       "<div>\n",
       "<style scoped>\n",
       "    .dataframe tbody tr th:only-of-type {\n",
       "        vertical-align: middle;\n",
       "    }\n",
       "\n",
       "    .dataframe tbody tr th {\n",
       "        vertical-align: top;\n",
       "    }\n",
       "\n",
       "    .dataframe thead th {\n",
       "        text-align: right;\n",
       "    }\n",
       "</style>\n",
       "<table border=\"1\" class=\"dataframe\">\n",
       "  <thead>\n",
       "    <tr style=\"text-align: right;\">\n",
       "      <th></th>\n",
       "      <th>Date/Time</th>\n",
       "      <th>Lat</th>\n",
       "      <th>Lon</th>\n",
       "      <th>Base</th>\n",
       "    </tr>\n",
       "  </thead>\n",
       "  <tbody>\n",
       "    <tr>\n",
       "      <th>0</th>\n",
       "      <td>4/1/2014 0:11:00</td>\n",
       "      <td>40.7690</td>\n",
       "      <td>-73.9549</td>\n",
       "      <td>B02512</td>\n",
       "    </tr>\n",
       "    <tr>\n",
       "      <th>1</th>\n",
       "      <td>4/1/2014 0:17:00</td>\n",
       "      <td>40.7267</td>\n",
       "      <td>-74.0345</td>\n",
       "      <td>B02512</td>\n",
       "    </tr>\n",
       "    <tr>\n",
       "      <th>2</th>\n",
       "      <td>4/1/2014 0:21:00</td>\n",
       "      <td>40.7316</td>\n",
       "      <td>-73.9873</td>\n",
       "      <td>B02512</td>\n",
       "    </tr>\n",
       "    <tr>\n",
       "      <th>3</th>\n",
       "      <td>4/1/2014 0:28:00</td>\n",
       "      <td>40.7588</td>\n",
       "      <td>-73.9776</td>\n",
       "      <td>B02512</td>\n",
       "    </tr>\n",
       "    <tr>\n",
       "      <th>4</th>\n",
       "      <td>4/1/2014 0:33:00</td>\n",
       "      <td>40.7594</td>\n",
       "      <td>-73.9722</td>\n",
       "      <td>B02512</td>\n",
       "    </tr>\n",
       "  </tbody>\n",
       "</table>\n",
       "</div>"
      ],
      "text/plain": [
       "          Date/Time      Lat      Lon    Base\n",
       "0  4/1/2014 0:11:00  40.7690 -73.9549  B02512\n",
       "1  4/1/2014 0:17:00  40.7267 -74.0345  B02512\n",
       "2  4/1/2014 0:21:00  40.7316 -73.9873  B02512\n",
       "3  4/1/2014 0:28:00  40.7588 -73.9776  B02512\n",
       "4  4/1/2014 0:33:00  40.7594 -73.9722  B02512"
      ]
     },
     "execution_count": 6,
     "metadata": {},
     "output_type": "execute_result"
    }
   ],
   "source": [
    "df_travels_ubers_2014.head()"
   ]
  },
  {
   "cell_type": "code",
   "execution_count": 7,
   "id": "hPtrZCCd1Yqx",
   "metadata": {
    "colab": {
     "base_uri": "https://localhost:8080/",
     "height": 204
    },
    "id": "hPtrZCCd1Yqx",
    "outputId": "00f99a5b-7159-4070-e35e-07073a049564"
   },
   "outputs": [
    {
     "data": {
      "text/html": [
       "<div>\n",
       "<style scoped>\n",
       "    .dataframe tbody tr th:only-of-type {\n",
       "        vertical-align: middle;\n",
       "    }\n",
       "\n",
       "    .dataframe tbody tr th {\n",
       "        vertical-align: top;\n",
       "    }\n",
       "\n",
       "    .dataframe thead th {\n",
       "        text-align: right;\n",
       "    }\n",
       "</style>\n",
       "<table border=\"1\" class=\"dataframe\">\n",
       "  <thead>\n",
       "    <tr style=\"text-align: right;\">\n",
       "      <th></th>\n",
       "      <th>Date/Time</th>\n",
       "      <th>Lat</th>\n",
       "      <th>Lon</th>\n",
       "      <th>Base</th>\n",
       "    </tr>\n",
       "  </thead>\n",
       "  <tbody>\n",
       "    <tr>\n",
       "      <th>5968217</th>\n",
       "      <td>9/30/2014 22:57:00</td>\n",
       "      <td>40.7668</td>\n",
       "      <td>-73.9845</td>\n",
       "      <td>B02764</td>\n",
       "    </tr>\n",
       "    <tr>\n",
       "      <th>5968218</th>\n",
       "      <td>9/30/2014 22:57:00</td>\n",
       "      <td>40.6911</td>\n",
       "      <td>-74.1773</td>\n",
       "      <td>B02764</td>\n",
       "    </tr>\n",
       "    <tr>\n",
       "      <th>5968219</th>\n",
       "      <td>9/30/2014 22:58:00</td>\n",
       "      <td>40.8519</td>\n",
       "      <td>-73.9319</td>\n",
       "      <td>B02764</td>\n",
       "    </tr>\n",
       "    <tr>\n",
       "      <th>5968220</th>\n",
       "      <td>9/30/2014 22:58:00</td>\n",
       "      <td>40.7081</td>\n",
       "      <td>-74.0066</td>\n",
       "      <td>B02764</td>\n",
       "    </tr>\n",
       "    <tr>\n",
       "      <th>5968221</th>\n",
       "      <td>9/30/2014 22:58:00</td>\n",
       "      <td>40.7140</td>\n",
       "      <td>-73.9496</td>\n",
       "      <td>B02764</td>\n",
       "    </tr>\n",
       "  </tbody>\n",
       "</table>\n",
       "</div>"
      ],
      "text/plain": [
       "                  Date/Time      Lat      Lon    Base\n",
       "5968217  9/30/2014 22:57:00  40.7668 -73.9845  B02764\n",
       "5968218  9/30/2014 22:57:00  40.6911 -74.1773  B02764\n",
       "5968219  9/30/2014 22:58:00  40.8519 -73.9319  B02764\n",
       "5968220  9/30/2014 22:58:00  40.7081 -74.0066  B02764\n",
       "5968221  9/30/2014 22:58:00  40.7140 -73.9496  B02764"
      ]
     },
     "execution_count": 7,
     "metadata": {},
     "output_type": "execute_result"
    }
   ],
   "source": [
    "df_travels_ubers_2014.tail()"
   ]
  },
  {
   "cell_type": "code",
   "execution_count": 8,
   "id": "chinese-geology",
   "metadata": {
    "colab": {
     "base_uri": "https://localhost:8080/"
    },
    "id": "chinese-geology",
    "outputId": "c2bf7feb-80f4-4070-d25e-b0dbf8e90cdc"
   },
   "outputs": [
    {
     "data": {
      "text/plain": [
       "Date/Time     object\n",
       "Lat          float64\n",
       "Lon          float64\n",
       "Base          object\n",
       "dtype: object"
      ]
     },
     "execution_count": 8,
     "metadata": {},
     "output_type": "execute_result"
    }
   ],
   "source": [
    "df_travels_ubers_2014.dtypes"
   ]
  },
  {
   "cell_type": "code",
   "execution_count": 9,
   "id": "literary-swift",
   "metadata": {
    "id": "literary-swift"
   },
   "outputs": [],
   "source": [
    "# Renombrando columnas\n",
    "column_name_mapping = {\n",
    "    'Date/Time': 'Fecha',\n",
    "    'Lat': 'Latitud',\n",
    "    'Lon': 'Longitud',\n",
    "    'Base': 'id_base'\n",
    "}"
   ]
  },
  {
   "cell_type": "code",
   "execution_count": 10,
   "id": "split-kitchen",
   "metadata": {
    "colab": {
     "base_uri": "https://localhost:8080/",
     "height": 419
    },
    "id": "split-kitchen",
    "outputId": "a8434240-3122-49fd-c80f-4386024f1001"
   },
   "outputs": [
    {
     "data": {
      "text/html": [
       "<div>\n",
       "<style scoped>\n",
       "    .dataframe tbody tr th:only-of-type {\n",
       "        vertical-align: middle;\n",
       "    }\n",
       "\n",
       "    .dataframe tbody tr th {\n",
       "        vertical-align: top;\n",
       "    }\n",
       "\n",
       "    .dataframe thead th {\n",
       "        text-align: right;\n",
       "    }\n",
       "</style>\n",
       "<table border=\"1\" class=\"dataframe\">\n",
       "  <thead>\n",
       "    <tr style=\"text-align: right;\">\n",
       "      <th></th>\n",
       "      <th>Fecha</th>\n",
       "      <th>Latitud</th>\n",
       "      <th>Longitud</th>\n",
       "      <th>id_base</th>\n",
       "    </tr>\n",
       "  </thead>\n",
       "  <tbody>\n",
       "    <tr>\n",
       "      <th>0</th>\n",
       "      <td>4/1/2014 0:11:00</td>\n",
       "      <td>40.7690</td>\n",
       "      <td>-73.9549</td>\n",
       "      <td>B02512</td>\n",
       "    </tr>\n",
       "    <tr>\n",
       "      <th>1</th>\n",
       "      <td>4/1/2014 0:17:00</td>\n",
       "      <td>40.7267</td>\n",
       "      <td>-74.0345</td>\n",
       "      <td>B02512</td>\n",
       "    </tr>\n",
       "    <tr>\n",
       "      <th>2</th>\n",
       "      <td>4/1/2014 0:21:00</td>\n",
       "      <td>40.7316</td>\n",
       "      <td>-73.9873</td>\n",
       "      <td>B02512</td>\n",
       "    </tr>\n",
       "    <tr>\n",
       "      <th>3</th>\n",
       "      <td>4/1/2014 0:28:00</td>\n",
       "      <td>40.7588</td>\n",
       "      <td>-73.9776</td>\n",
       "      <td>B02512</td>\n",
       "    </tr>\n",
       "    <tr>\n",
       "      <th>4</th>\n",
       "      <td>4/1/2014 0:33:00</td>\n",
       "      <td>40.7594</td>\n",
       "      <td>-73.9722</td>\n",
       "      <td>B02512</td>\n",
       "    </tr>\n",
       "    <tr>\n",
       "      <th>...</th>\n",
       "      <td>...</td>\n",
       "      <td>...</td>\n",
       "      <td>...</td>\n",
       "      <td>...</td>\n",
       "    </tr>\n",
       "    <tr>\n",
       "      <th>5968217</th>\n",
       "      <td>9/30/2014 22:57:00</td>\n",
       "      <td>40.7668</td>\n",
       "      <td>-73.9845</td>\n",
       "      <td>B02764</td>\n",
       "    </tr>\n",
       "    <tr>\n",
       "      <th>5968218</th>\n",
       "      <td>9/30/2014 22:57:00</td>\n",
       "      <td>40.6911</td>\n",
       "      <td>-74.1773</td>\n",
       "      <td>B02764</td>\n",
       "    </tr>\n",
       "    <tr>\n",
       "      <th>5968219</th>\n",
       "      <td>9/30/2014 22:58:00</td>\n",
       "      <td>40.8519</td>\n",
       "      <td>-73.9319</td>\n",
       "      <td>B02764</td>\n",
       "    </tr>\n",
       "    <tr>\n",
       "      <th>5968220</th>\n",
       "      <td>9/30/2014 22:58:00</td>\n",
       "      <td>40.7081</td>\n",
       "      <td>-74.0066</td>\n",
       "      <td>B02764</td>\n",
       "    </tr>\n",
       "    <tr>\n",
       "      <th>5968221</th>\n",
       "      <td>9/30/2014 22:58:00</td>\n",
       "      <td>40.7140</td>\n",
       "      <td>-73.9496</td>\n",
       "      <td>B02764</td>\n",
       "    </tr>\n",
       "  </tbody>\n",
       "</table>\n",
       "<p>5968222 rows × 4 columns</p>\n",
       "</div>"
      ],
      "text/plain": [
       "                      Fecha  Latitud  Longitud id_base\n",
       "0          4/1/2014 0:11:00  40.7690  -73.9549  B02512\n",
       "1          4/1/2014 0:17:00  40.7267  -74.0345  B02512\n",
       "2          4/1/2014 0:21:00  40.7316  -73.9873  B02512\n",
       "3          4/1/2014 0:28:00  40.7588  -73.9776  B02512\n",
       "4          4/1/2014 0:33:00  40.7594  -73.9722  B02512\n",
       "...                     ...      ...       ...     ...\n",
       "5968217  9/30/2014 22:57:00  40.7668  -73.9845  B02764\n",
       "5968218  9/30/2014 22:57:00  40.6911  -74.1773  B02764\n",
       "5968219  9/30/2014 22:58:00  40.8519  -73.9319  B02764\n",
       "5968220  9/30/2014 22:58:00  40.7081  -74.0066  B02764\n",
       "5968221  9/30/2014 22:58:00  40.7140  -73.9496  B02764\n",
       "\n",
       "[5968222 rows x 4 columns]"
      ]
     },
     "execution_count": 10,
     "metadata": {},
     "output_type": "execute_result"
    }
   ],
   "source": [
    "df_travels_ubers_2014_renamed = df_travels_ubers_2014.rename(columns=column_name_mapping)\n",
    "df_travels_ubers_2014_renamed"
   ]
  },
  {
   "cell_type": "code",
   "execution_count": 11,
   "id": "diagnostic-possible",
   "metadata": {
    "colab": {
     "base_uri": "https://localhost:8080/"
    },
    "id": "diagnostic-possible",
    "outputId": "aed0007c-b4ee-4e3f-8930-379170791df1"
   },
   "outputs": [
    {
     "data": {
      "text/plain": [
       "Fecha        object\n",
       "Latitud     float64\n",
       "Longitud    float64\n",
       "id_base      object\n",
       "dtype: object"
      ]
     },
     "execution_count": 11,
     "metadata": {},
     "output_type": "execute_result"
    }
   ],
   "source": [
    "df_travels_ubers_2014_renamed.dtypes"
   ]
  },
  {
   "cell_type": "code",
   "execution_count": 12,
   "id": "amber-printing",
   "metadata": {
    "id": "amber-printing"
   },
   "outputs": [],
   "source": [
    "# Cambio el tipo de dato de caracter a datetime\n",
    "df_travels_ubers_2014_renamed['Fecha'] = pd.to_datetime(df_travels_ubers_2014_renamed['Fecha'])"
   ]
  },
  {
   "cell_type": "code",
   "execution_count": 13,
   "id": "lightweight-sponsorship",
   "metadata": {
    "colab": {
     "base_uri": "https://localhost:8080/",
     "height": 204
    },
    "id": "lightweight-sponsorship",
    "outputId": "6fff2047-44bb-46e9-8cc6-8b8f52d8b24d",
    "scrolled": true
   },
   "outputs": [
    {
     "data": {
      "text/html": [
       "<div>\n",
       "<style scoped>\n",
       "    .dataframe tbody tr th:only-of-type {\n",
       "        vertical-align: middle;\n",
       "    }\n",
       "\n",
       "    .dataframe tbody tr th {\n",
       "        vertical-align: top;\n",
       "    }\n",
       "\n",
       "    .dataframe thead th {\n",
       "        text-align: right;\n",
       "    }\n",
       "</style>\n",
       "<table border=\"1\" class=\"dataframe\">\n",
       "  <thead>\n",
       "    <tr style=\"text-align: right;\">\n",
       "      <th></th>\n",
       "      <th>Fecha</th>\n",
       "      <th>Latitud</th>\n",
       "      <th>Longitud</th>\n",
       "      <th>id_base</th>\n",
       "    </tr>\n",
       "  </thead>\n",
       "  <tbody>\n",
       "    <tr>\n",
       "      <th>0</th>\n",
       "      <td>2014-04-01 00:11:00</td>\n",
       "      <td>40.7690</td>\n",
       "      <td>-73.9549</td>\n",
       "      <td>B02512</td>\n",
       "    </tr>\n",
       "    <tr>\n",
       "      <th>1</th>\n",
       "      <td>2014-04-01 00:17:00</td>\n",
       "      <td>40.7267</td>\n",
       "      <td>-74.0345</td>\n",
       "      <td>B02512</td>\n",
       "    </tr>\n",
       "    <tr>\n",
       "      <th>2</th>\n",
       "      <td>2014-04-01 00:21:00</td>\n",
       "      <td>40.7316</td>\n",
       "      <td>-73.9873</td>\n",
       "      <td>B02512</td>\n",
       "    </tr>\n",
       "    <tr>\n",
       "      <th>3</th>\n",
       "      <td>2014-04-01 00:28:00</td>\n",
       "      <td>40.7588</td>\n",
       "      <td>-73.9776</td>\n",
       "      <td>B02512</td>\n",
       "    </tr>\n",
       "    <tr>\n",
       "      <th>4</th>\n",
       "      <td>2014-04-01 00:33:00</td>\n",
       "      <td>40.7594</td>\n",
       "      <td>-73.9722</td>\n",
       "      <td>B02512</td>\n",
       "    </tr>\n",
       "  </tbody>\n",
       "</table>\n",
       "</div>"
      ],
      "text/plain": [
       "                Fecha  Latitud  Longitud id_base\n",
       "0 2014-04-01 00:11:00  40.7690  -73.9549  B02512\n",
       "1 2014-04-01 00:17:00  40.7267  -74.0345  B02512\n",
       "2 2014-04-01 00:21:00  40.7316  -73.9873  B02512\n",
       "3 2014-04-01 00:28:00  40.7588  -73.9776  B02512\n",
       "4 2014-04-01 00:33:00  40.7594  -73.9722  B02512"
      ]
     },
     "execution_count": 13,
     "metadata": {},
     "output_type": "execute_result"
    }
   ],
   "source": [
    "df_travels_ubers_2014_renamed.head()"
   ]
  },
  {
   "cell_type": "code",
   "execution_count": 14,
   "id": "S-Hy_T4o6i3A",
   "metadata": {
    "colab": {
     "base_uri": "https://localhost:8080/"
    },
    "id": "S-Hy_T4o6i3A",
    "outputId": "a2d25e7d-6dfb-4c16-df0d-432da18bd947"
   },
   "outputs": [
    {
     "data": {
      "text/plain": [
       "Fecha       1433895\n",
       "Latitud     1433895\n",
       "Longitud    1433895\n",
       "id_base     1433895\n",
       "dtype: int64"
      ]
     },
     "execution_count": 14,
     "metadata": {},
     "output_type": "execute_result"
    }
   ],
   "source": [
    "df_travels_ubers_2014_renamed.isna().sum()"
   ]
  },
  {
   "cell_type": "code",
   "execution_count": 15,
   "id": "yN4QFE0V7OhO",
   "metadata": {
    "id": "yN4QFE0V7OhO"
   },
   "outputs": [],
   "source": [
    "df_travels_ubers_2014_clean =  df_travels_ubers_2014_renamed.dropna(axis=0, how='all')"
   ]
  },
  {
   "cell_type": "code",
   "execution_count": 16,
   "id": "1OPMsfIh7SdJ",
   "metadata": {
    "colab": {
     "base_uri": "https://localhost:8080/"
    },
    "id": "1OPMsfIh7SdJ",
    "outputId": "8a3d41f4-0149-423b-cb29-5484d9531792"
   },
   "outputs": [
    {
     "data": {
      "text/plain": [
       "Fecha       0\n",
       "Latitud     0\n",
       "Longitud    0\n",
       "id_base     0\n",
       "dtype: int64"
      ]
     },
     "execution_count": 16,
     "metadata": {},
     "output_type": "execute_result"
    }
   ],
   "source": [
    "df_travels_ubers_2014_clean.isna().sum()"
   ]
  },
  {
   "cell_type": "code",
   "execution_count": 17,
   "id": "nuclear-renaissance",
   "metadata": {
    "id": "nuclear-renaissance"
   },
   "outputs": [],
   "source": [
    "def nombre_dia_semana(valor):\n",
    "    \n",
    "    ndia = valor.weekday()\n",
    "    if ndia == 1: return 'Lunes'\n",
    "    elif ndia == 2: return 'Martes'\n",
    "    elif ndia == 3: return 'Miercoles'\n",
    "    elif ndia == 4: return 'Jueves'\n",
    "    elif ndia == 5: return 'Viernes'\n",
    "    elif ndia == 6: return 'Sabado'\n",
    "    else: return 'Domingo'"
   ]
  },
  {
   "cell_type": "code",
   "execution_count": 18,
   "id": "final-pharmaceutical",
   "metadata": {
    "colab": {
     "base_uri": "https://localhost:8080/"
    },
    "id": "final-pharmaceutical",
    "outputId": "ec3f3890-e1ca-400e-c9fe-f74626225820"
   },
   "outputs": [
    {
     "name": "stderr",
     "output_type": "stream",
     "text": [
      "<ipython-input-18-c0d62d030caa>:2: SettingWithCopyWarning: \n",
      "A value is trying to be set on a copy of a slice from a DataFrame.\n",
      "Try using .loc[row_indexer,col_indexer] = value instead\n",
      "\n",
      "See the caveats in the documentation: https://pandas.pydata.org/pandas-docs/stable/user_guide/indexing.html#returning-a-view-versus-a-copy\n",
      "  df_travels_ubers_2014_clean['DiaSemana'] = df_travels_ubers_2014_clean['Fecha'].apply(nombre_dia_semana)\n"
     ]
    }
   ],
   "source": [
    "# Se agrega el campo DiaSemana\n",
    "df_travels_ubers_2014_clean['DiaSemana'] = df_travels_ubers_2014_clean['Fecha'].apply(nombre_dia_semana)"
   ]
  },
  {
   "cell_type": "code",
   "execution_count": 19,
   "id": "binding-glenn",
   "metadata": {},
   "outputs": [],
   "source": [
    "def nombre_dia_semana_num(valor):\n",
    "    \n",
    "    ndia = valor.weekday()\n",
    "    return ndia"
   ]
  },
  {
   "cell_type": "code",
   "execution_count": 20,
   "id": "apart-pound",
   "metadata": {},
   "outputs": [
    {
     "name": "stderr",
     "output_type": "stream",
     "text": [
      "<ipython-input-20-d2ad03244768>:2: SettingWithCopyWarning: \n",
      "A value is trying to be set on a copy of a slice from a DataFrame.\n",
      "Try using .loc[row_indexer,col_indexer] = value instead\n",
      "\n",
      "See the caveats in the documentation: https://pandas.pydata.org/pandas-docs/stable/user_guide/indexing.html#returning-a-view-versus-a-copy\n",
      "  df_travels_ubers_2014_clean['DiaSemanaNum'] = df_travels_ubers_2014_clean['Fecha'].apply(nombre_dia_semana_num)\n"
     ]
    }
   ],
   "source": [
    "# Se agrega el campo DiaSemanaNum\n",
    "df_travels_ubers_2014_clean['DiaSemanaNum'] = df_travels_ubers_2014_clean['Fecha'].apply(nombre_dia_semana_num)"
   ]
  },
  {
   "cell_type": "code",
   "execution_count": 21,
   "id": "built-february",
   "metadata": {
    "id": "built-february"
   },
   "outputs": [],
   "source": [
    "def get_year(valor):\n",
    "    return valor.year\n"
   ]
  },
  {
   "cell_type": "code",
   "execution_count": 22,
   "id": "casual-tomato",
   "metadata": {
    "colab": {
     "base_uri": "https://localhost:8080/"
    },
    "id": "casual-tomato",
    "outputId": "50bc3740-a35f-4f8d-b7a2-322dc0f015d8"
   },
   "outputs": [
    {
     "name": "stderr",
     "output_type": "stream",
     "text": [
      "<ipython-input-22-b7d018412055>:2: SettingWithCopyWarning: \n",
      "A value is trying to be set on a copy of a slice from a DataFrame.\n",
      "Try using .loc[row_indexer,col_indexer] = value instead\n",
      "\n",
      "See the caveats in the documentation: https://pandas.pydata.org/pandas-docs/stable/user_guide/indexing.html#returning-a-view-versus-a-copy\n",
      "  df_travels_ubers_2014_clean['Anio'] = df_travels_ubers_2014_clean['Fecha'].apply(get_year)\n"
     ]
    }
   ],
   "source": [
    "# Se agrega el campo Anio\n",
    "df_travels_ubers_2014_clean['Anio'] = df_travels_ubers_2014_clean['Fecha'].apply(get_year)"
   ]
  },
  {
   "cell_type": "code",
   "execution_count": 23,
   "id": "faced-commonwealth",
   "metadata": {
    "id": "faced-commonwealth"
   },
   "outputs": [],
   "source": [
    "def get_month(valor):\n",
    "    return valor.month"
   ]
  },
  {
   "cell_type": "code",
   "execution_count": 24,
   "id": "aggregate-infrared",
   "metadata": {
    "colab": {
     "base_uri": "https://localhost:8080/"
    },
    "id": "aggregate-infrared",
    "outputId": "e56b3885-13b0-4756-ac6d-05f146f900fd"
   },
   "outputs": [
    {
     "name": "stderr",
     "output_type": "stream",
     "text": [
      "<ipython-input-24-933793141476>:2: SettingWithCopyWarning: \n",
      "A value is trying to be set on a copy of a slice from a DataFrame.\n",
      "Try using .loc[row_indexer,col_indexer] = value instead\n",
      "\n",
      "See the caveats in the documentation: https://pandas.pydata.org/pandas-docs/stable/user_guide/indexing.html#returning-a-view-versus-a-copy\n",
      "  df_travels_ubers_2014_clean['Mes'] = df_travels_ubers_2014_clean['Fecha'].apply(get_month)\n"
     ]
    }
   ],
   "source": [
    "# Se agrega el campo Mes\n",
    "df_travels_ubers_2014_clean['Mes'] = df_travels_ubers_2014_clean['Fecha'].apply(get_month)"
   ]
  },
  {
   "cell_type": "code",
   "execution_count": 25,
   "id": "extra-depth",
   "metadata": {
    "id": "extra-depth"
   },
   "outputs": [],
   "source": [
    "def get_day(valor):\n",
    "    return valor.day"
   ]
  },
  {
   "cell_type": "code",
   "execution_count": 26,
   "id": "divine-disorder",
   "metadata": {
    "colab": {
     "base_uri": "https://localhost:8080/"
    },
    "id": "divine-disorder",
    "outputId": "59940fc5-c321-4807-e040-a146fd6f8eee"
   },
   "outputs": [
    {
     "name": "stderr",
     "output_type": "stream",
     "text": [
      "<ipython-input-26-f4f910f906b2>:2: SettingWithCopyWarning: \n",
      "A value is trying to be set on a copy of a slice from a DataFrame.\n",
      "Try using .loc[row_indexer,col_indexer] = value instead\n",
      "\n",
      "See the caveats in the documentation: https://pandas.pydata.org/pandas-docs/stable/user_guide/indexing.html#returning-a-view-versus-a-copy\n",
      "  df_travels_ubers_2014_clean['Dia'] = df_travels_ubers_2014_clean['Fecha'].apply(get_day)\n"
     ]
    }
   ],
   "source": [
    "# Se agrega el campo Dia\n",
    "df_travels_ubers_2014_clean['Dia'] = df_travels_ubers_2014_clean['Fecha'].apply(get_day)"
   ]
  },
  {
   "cell_type": "code",
   "execution_count": 27,
   "id": "laughing-demand",
   "metadata": {
    "id": "laughing-demand"
   },
   "outputs": [],
   "source": [
    "def get_hour(valor):\n",
    "    return valor.hour"
   ]
  },
  {
   "cell_type": "code",
   "execution_count": 28,
   "id": "stable-diabetes",
   "metadata": {
    "colab": {
     "base_uri": "https://localhost:8080/"
    },
    "id": "stable-diabetes",
    "outputId": "ac8de56d-4297-4e12-b1c8-bd0d994cd8c8"
   },
   "outputs": [
    {
     "name": "stderr",
     "output_type": "stream",
     "text": [
      "<ipython-input-28-a292f6041c3d>:2: SettingWithCopyWarning: \n",
      "A value is trying to be set on a copy of a slice from a DataFrame.\n",
      "Try using .loc[row_indexer,col_indexer] = value instead\n",
      "\n",
      "See the caveats in the documentation: https://pandas.pydata.org/pandas-docs/stable/user_guide/indexing.html#returning-a-view-versus-a-copy\n",
      "  df_travels_ubers_2014_clean['Hora'] = df_travels_ubers_2014_clean['Fecha'].apply(get_hour)\n"
     ]
    }
   ],
   "source": [
    "# Se agrega el campo Hora\n",
    "df_travels_ubers_2014_clean['Hora'] = df_travels_ubers_2014_clean['Fecha'].apply(get_hour)"
   ]
  },
  {
   "cell_type": "code",
   "execution_count": 29,
   "id": "preceding-aluminum",
   "metadata": {
    "id": "preceding-aluminum"
   },
   "outputs": [],
   "source": [
    "def get_minute(valor):\n",
    "    return valor.minute"
   ]
  },
  {
   "cell_type": "code",
   "execution_count": 30,
   "id": "treated-novel",
   "metadata": {
    "colab": {
     "base_uri": "https://localhost:8080/"
    },
    "id": "treated-novel",
    "outputId": "47f30f34-9687-45e0-bd08-0bb9a8d23f46"
   },
   "outputs": [
    {
     "name": "stderr",
     "output_type": "stream",
     "text": [
      "<ipython-input-30-3a97161c870e>:2: SettingWithCopyWarning: \n",
      "A value is trying to be set on a copy of a slice from a DataFrame.\n",
      "Try using .loc[row_indexer,col_indexer] = value instead\n",
      "\n",
      "See the caveats in the documentation: https://pandas.pydata.org/pandas-docs/stable/user_guide/indexing.html#returning-a-view-versus-a-copy\n",
      "  df_travels_ubers_2014_clean['Minuto'] = df_travels_ubers_2014_clean['Fecha'].apply(get_minute)\n"
     ]
    }
   ],
   "source": [
    "# Se agrega el campo Minuto\n",
    "df_travels_ubers_2014_clean['Minuto'] = df_travels_ubers_2014_clean['Fecha'].apply(get_minute)"
   ]
  },
  {
   "cell_type": "code",
   "execution_count": 31,
   "id": "brave-contribution",
   "metadata": {
    "colab": {
     "base_uri": "https://localhost:8080/",
     "height": 204
    },
    "id": "brave-contribution",
    "outputId": "19094e16-2e07-42ed-ce05-655904e18f94"
   },
   "outputs": [
    {
     "data": {
      "text/html": [
       "<div>\n",
       "<style scoped>\n",
       "    .dataframe tbody tr th:only-of-type {\n",
       "        vertical-align: middle;\n",
       "    }\n",
       "\n",
       "    .dataframe tbody tr th {\n",
       "        vertical-align: top;\n",
       "    }\n",
       "\n",
       "    .dataframe thead th {\n",
       "        text-align: right;\n",
       "    }\n",
       "</style>\n",
       "<table border=\"1\" class=\"dataframe\">\n",
       "  <thead>\n",
       "    <tr style=\"text-align: right;\">\n",
       "      <th></th>\n",
       "      <th>Fecha</th>\n",
       "      <th>Latitud</th>\n",
       "      <th>Longitud</th>\n",
       "      <th>id_base</th>\n",
       "      <th>DiaSemana</th>\n",
       "      <th>DiaSemanaNum</th>\n",
       "      <th>Anio</th>\n",
       "      <th>Mes</th>\n",
       "      <th>Dia</th>\n",
       "      <th>Hora</th>\n",
       "      <th>Minuto</th>\n",
       "    </tr>\n",
       "  </thead>\n",
       "  <tbody>\n",
       "    <tr>\n",
       "      <th>0</th>\n",
       "      <td>2014-04-01 00:11:00</td>\n",
       "      <td>40.7690</td>\n",
       "      <td>-73.9549</td>\n",
       "      <td>B02512</td>\n",
       "      <td>Lunes</td>\n",
       "      <td>1</td>\n",
       "      <td>2014</td>\n",
       "      <td>4</td>\n",
       "      <td>1</td>\n",
       "      <td>0</td>\n",
       "      <td>11</td>\n",
       "    </tr>\n",
       "    <tr>\n",
       "      <th>1</th>\n",
       "      <td>2014-04-01 00:17:00</td>\n",
       "      <td>40.7267</td>\n",
       "      <td>-74.0345</td>\n",
       "      <td>B02512</td>\n",
       "      <td>Lunes</td>\n",
       "      <td>1</td>\n",
       "      <td>2014</td>\n",
       "      <td>4</td>\n",
       "      <td>1</td>\n",
       "      <td>0</td>\n",
       "      <td>17</td>\n",
       "    </tr>\n",
       "    <tr>\n",
       "      <th>2</th>\n",
       "      <td>2014-04-01 00:21:00</td>\n",
       "      <td>40.7316</td>\n",
       "      <td>-73.9873</td>\n",
       "      <td>B02512</td>\n",
       "      <td>Lunes</td>\n",
       "      <td>1</td>\n",
       "      <td>2014</td>\n",
       "      <td>4</td>\n",
       "      <td>1</td>\n",
       "      <td>0</td>\n",
       "      <td>21</td>\n",
       "    </tr>\n",
       "    <tr>\n",
       "      <th>3</th>\n",
       "      <td>2014-04-01 00:28:00</td>\n",
       "      <td>40.7588</td>\n",
       "      <td>-73.9776</td>\n",
       "      <td>B02512</td>\n",
       "      <td>Lunes</td>\n",
       "      <td>1</td>\n",
       "      <td>2014</td>\n",
       "      <td>4</td>\n",
       "      <td>1</td>\n",
       "      <td>0</td>\n",
       "      <td>28</td>\n",
       "    </tr>\n",
       "    <tr>\n",
       "      <th>4</th>\n",
       "      <td>2014-04-01 00:33:00</td>\n",
       "      <td>40.7594</td>\n",
       "      <td>-73.9722</td>\n",
       "      <td>B02512</td>\n",
       "      <td>Lunes</td>\n",
       "      <td>1</td>\n",
       "      <td>2014</td>\n",
       "      <td>4</td>\n",
       "      <td>1</td>\n",
       "      <td>0</td>\n",
       "      <td>33</td>\n",
       "    </tr>\n",
       "  </tbody>\n",
       "</table>\n",
       "</div>"
      ],
      "text/plain": [
       "                Fecha  Latitud  Longitud id_base DiaSemana  DiaSemanaNum  \\\n",
       "0 2014-04-01 00:11:00  40.7690  -73.9549  B02512     Lunes             1   \n",
       "1 2014-04-01 00:17:00  40.7267  -74.0345  B02512     Lunes             1   \n",
       "2 2014-04-01 00:21:00  40.7316  -73.9873  B02512     Lunes             1   \n",
       "3 2014-04-01 00:28:00  40.7588  -73.9776  B02512     Lunes             1   \n",
       "4 2014-04-01 00:33:00  40.7594  -73.9722  B02512     Lunes             1   \n",
       "\n",
       "   Anio  Mes  Dia  Hora  Minuto  \n",
       "0  2014    4    1     0      11  \n",
       "1  2014    4    1     0      17  \n",
       "2  2014    4    1     0      21  \n",
       "3  2014    4    1     0      28  \n",
       "4  2014    4    1     0      33  "
      ]
     },
     "execution_count": 31,
     "metadata": {},
     "output_type": "execute_result"
    }
   ],
   "source": [
    "df_travels_ubers_2014_clean.head()"
   ]
  },
  {
   "cell_type": "code",
   "execution_count": 32,
   "id": "nutritional-anthropology",
   "metadata": {
    "colab": {
     "base_uri": "https://localhost:8080/"
    },
    "id": "nutritional-anthropology",
    "outputId": "828739fd-4656-4140-931d-4b3c2e25022d"
   },
   "outputs": [
    {
     "data": {
      "text/plain": [
       "Fecha           0\n",
       "Latitud         0\n",
       "Longitud        0\n",
       "id_base         0\n",
       "DiaSemana       0\n",
       "DiaSemanaNum    0\n",
       "Anio            0\n",
       "Mes             0\n",
       "Dia             0\n",
       "Hora            0\n",
       "Minuto          0\n",
       "dtype: int64"
      ]
     },
     "execution_count": 32,
     "metadata": {},
     "output_type": "execute_result"
    }
   ],
   "source": [
    "df_travels_ubers_2014_clean.isna().sum()"
   ]
  },
  {
   "cell_type": "code",
   "execution_count": 33,
   "id": "coupled-yahoo",
   "metadata": {
    "id": "coupled-yahoo"
   },
   "outputs": [],
   "source": [
    "df_travels_ubers_2014_clean.to_csv('Dataset_UberViajes_limpio.csv')"
   ]
  },
  {
   "cell_type": "code",
   "execution_count": null,
   "id": "olive-recognition",
   "metadata": {},
   "outputs": [],
   "source": []
  }
 ],
 "metadata": {
  "colab": {
   "include_colab_link": true,
   "name": "Uber_BaseDatos_Viajes.ipynb",
   "provenance": []
  },
  "kernelspec": {
   "display_name": "Python 3",
   "language": "python",
   "name": "python3"
  },
  "language_info": {
   "codemirror_mode": {
    "name": "ipython",
    "version": 3
   },
   "file_extension": ".py",
   "mimetype": "text/x-python",
   "name": "python",
   "nbconvert_exporter": "python",
   "pygments_lexer": "ipython3",
   "version": "3.9.2"
  }
 },
 "nbformat": 4,
 "nbformat_minor": 5
}
