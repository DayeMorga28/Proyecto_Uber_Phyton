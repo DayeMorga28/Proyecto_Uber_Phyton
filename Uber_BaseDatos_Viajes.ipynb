{
  "nbformat": 4,
  "nbformat_minor": 5,
  "metadata": {
    "kernelspec": {
      "display_name": "Python 3",
      "language": "python",
      "name": "python3"
    },
    "language_info": {
      "codemirror_mode": {
        "name": "ipython",
        "version": 3
      },
      "file_extension": ".py",
      "mimetype": "text/x-python",
      "name": "python",
      "nbconvert_exporter": "python",
      "pygments_lexer": "ipython3",
      "version": "3.9.2"
    },
    "colab": {
      "name": "Uber_BaseDatos_Viajes.ipynb",
      "provenance": []
    }
  },
  "cells": [
    {
      "cell_type": "code",
      "metadata": {
        "id": "exterior-secondary"
      },
      "source": [
        "##################################################################################\n",
        "#         U B E R   Y   O T R O S   S E R V I C I O S                            #\n",
        "##################################################################################\n"
      ],
      "id": "exterior-secondary",
      "execution_count": 1,
      "outputs": []
    },
    {
      "cell_type": "code",
      "metadata": {
        "id": "superb-quality"
      },
      "source": [
        "# Carga de librerias\n",
        "import pandas as pd\n",
        "from datetime import datetime, timedelta"
      ],
      "id": "superb-quality",
      "execution_count": 2,
      "outputs": []
    },
    {
      "cell_type": "code",
      "metadata": {
        "id": "homeless-pavilion"
      },
      "source": [
        "# 2. Carga de datos de viajes de abril.\n",
        "df_travels_abril = pd.read_csv('https://raw.githubusercontent.com/DayeMorga28/Proyecto_Uber_Phyton/main/uber-raw-data-apr14.csv')\n"
      ],
      "id": "homeless-pavilion",
      "execution_count": 12,
      "outputs": []
    },
    {
      "cell_type": "code",
      "metadata": {
        "id": "SXWq3nlZAWIt",
        "outputId": "06de4bb0-f28d-4b84-87c1-ee0b6331b3f8",
        "colab": {
          "base_uri": "https://localhost:8080/",
          "height": 204
        }
      },
      "source": [
        "df_travels_abril.head()"
      ],
      "id": "SXWq3nlZAWIt",
      "execution_count": 13,
      "outputs": [
        {
          "output_type": "execute_result",
          "data": {
            "text/html": [
              "<div>\n",
              "<style scoped>\n",
              "    .dataframe tbody tr th:only-of-type {\n",
              "        vertical-align: middle;\n",
              "    }\n",
              "\n",
              "    .dataframe tbody tr th {\n",
              "        vertical-align: top;\n",
              "    }\n",
              "\n",
              "    .dataframe thead th {\n",
              "        text-align: right;\n",
              "    }\n",
              "</style>\n",
              "<table border=\"1\" class=\"dataframe\">\n",
              "  <thead>\n",
              "    <tr style=\"text-align: right;\">\n",
              "      <th></th>\n",
              "      <th>Date/Time</th>\n",
              "      <th>Lat</th>\n",
              "      <th>Lon</th>\n",
              "      <th>Base</th>\n",
              "    </tr>\n",
              "  </thead>\n",
              "  <tbody>\n",
              "    <tr>\n",
              "      <th>0</th>\n",
              "      <td>4/1/2014 0:11:00</td>\n",
              "      <td>40.7690</td>\n",
              "      <td>-73.9549</td>\n",
              "      <td>B02512</td>\n",
              "    </tr>\n",
              "    <tr>\n",
              "      <th>1</th>\n",
              "      <td>4/1/2014 0:17:00</td>\n",
              "      <td>40.7267</td>\n",
              "      <td>-74.0345</td>\n",
              "      <td>B02512</td>\n",
              "    </tr>\n",
              "    <tr>\n",
              "      <th>2</th>\n",
              "      <td>4/1/2014 0:21:00</td>\n",
              "      <td>40.7316</td>\n",
              "      <td>-73.9873</td>\n",
              "      <td>B02512</td>\n",
              "    </tr>\n",
              "    <tr>\n",
              "      <th>3</th>\n",
              "      <td>4/1/2014 0:28:00</td>\n",
              "      <td>40.7588</td>\n",
              "      <td>-73.9776</td>\n",
              "      <td>B02512</td>\n",
              "    </tr>\n",
              "    <tr>\n",
              "      <th>4</th>\n",
              "      <td>4/1/2014 0:33:00</td>\n",
              "      <td>40.7594</td>\n",
              "      <td>-73.9722</td>\n",
              "      <td>B02512</td>\n",
              "    </tr>\n",
              "  </tbody>\n",
              "</table>\n",
              "</div>"
            ],
            "text/plain": [
              "          Date/Time      Lat      Lon    Base\n",
              "0  4/1/2014 0:11:00  40.7690 -73.9549  B02512\n",
              "1  4/1/2014 0:17:00  40.7267 -74.0345  B02512\n",
              "2  4/1/2014 0:21:00  40.7316 -73.9873  B02512\n",
              "3  4/1/2014 0:28:00  40.7588 -73.9776  B02512\n",
              "4  4/1/2014 0:33:00  40.7594 -73.9722  B02512"
            ]
          },
          "metadata": {
            "tags": []
          },
          "execution_count": 13
        }
      ]
    },
    {
      "cell_type": "code",
      "metadata": {
        "id": "chinese-geology",
        "outputId": "bd577cd3-7a6c-4e21-99b4-1f0b6222f930",
        "colab": {
          "base_uri": "https://localhost:8080/"
        }
      },
      "source": [
        "df_travels_abril.dtypes"
      ],
      "id": "chinese-geology",
      "execution_count": 11,
      "outputs": [
        {
          "output_type": "execute_result",
          "data": {
            "text/plain": [
              "<!DOCTYPE html>    object\n",
              "dtype: object"
            ]
          },
          "metadata": {
            "tags": []
          },
          "execution_count": 11
        }
      ]
    },
    {
      "cell_type": "code",
      "metadata": {
        "id": "literary-swift"
      },
      "source": [
        "# Renombrando columnas\n",
        "column_name_mapping = {\n",
        "    'Date/Time': 'Fecha',\n",
        "    'Lat': 'Latitud',\n",
        "    'Lon': 'Longitud',\n",
        "    'Base': 'id_base'\n",
        "}"
      ],
      "id": "literary-swift",
      "execution_count": null,
      "outputs": []
    },
    {
      "cell_type": "code",
      "metadata": {
        "id": "split-kitchen",
        "outputId": "8141ee71-b0e5-4bc6-c858-279921b28acd"
      },
      "source": [
        "df_travels_abril_renamed = df_travels_abril.rename(columns=column_name_mapping)\n",
        "df_travels_abril_renamed"
      ],
      "id": "split-kitchen",
      "execution_count": null,
      "outputs": [
        {
          "output_type": "execute_result",
          "data": {
            "text/html": [
              "<div>\n",
              "<style scoped>\n",
              "    .dataframe tbody tr th:only-of-type {\n",
              "        vertical-align: middle;\n",
              "    }\n",
              "\n",
              "    .dataframe tbody tr th {\n",
              "        vertical-align: top;\n",
              "    }\n",
              "\n",
              "    .dataframe thead th {\n",
              "        text-align: right;\n",
              "    }\n",
              "</style>\n",
              "<table border=\"1\" class=\"dataframe\">\n",
              "  <thead>\n",
              "    <tr style=\"text-align: right;\">\n",
              "      <th></th>\n",
              "      <th>Fecha</th>\n",
              "      <th>Latitud</th>\n",
              "      <th>Longitud</th>\n",
              "      <th>id_base</th>\n",
              "    </tr>\n",
              "  </thead>\n",
              "  <tbody>\n",
              "    <tr>\n",
              "      <th>0</th>\n",
              "      <td>4/1/2014 0:11:00</td>\n",
              "      <td>40.7690</td>\n",
              "      <td>-73.9549</td>\n",
              "      <td>B02512</td>\n",
              "    </tr>\n",
              "    <tr>\n",
              "      <th>1</th>\n",
              "      <td>4/1/2014 0:17:00</td>\n",
              "      <td>40.7267</td>\n",
              "      <td>-74.0345</td>\n",
              "      <td>B02512</td>\n",
              "    </tr>\n",
              "    <tr>\n",
              "      <th>2</th>\n",
              "      <td>4/1/2014 0:21:00</td>\n",
              "      <td>40.7316</td>\n",
              "      <td>-73.9873</td>\n",
              "      <td>B02512</td>\n",
              "    </tr>\n",
              "    <tr>\n",
              "      <th>3</th>\n",
              "      <td>4/1/2014 0:28:00</td>\n",
              "      <td>40.7588</td>\n",
              "      <td>-73.9776</td>\n",
              "      <td>B02512</td>\n",
              "    </tr>\n",
              "    <tr>\n",
              "      <th>4</th>\n",
              "      <td>4/1/2014 0:33:00</td>\n",
              "      <td>40.7594</td>\n",
              "      <td>-73.9722</td>\n",
              "      <td>B02512</td>\n",
              "    </tr>\n",
              "    <tr>\n",
              "      <th>...</th>\n",
              "      <td>...</td>\n",
              "      <td>...</td>\n",
              "      <td>...</td>\n",
              "      <td>...</td>\n",
              "    </tr>\n",
              "    <tr>\n",
              "      <th>564511</th>\n",
              "      <td>4/30/2014 23:22:00</td>\n",
              "      <td>40.7640</td>\n",
              "      <td>-73.9744</td>\n",
              "      <td>B02764</td>\n",
              "    </tr>\n",
              "    <tr>\n",
              "      <th>564512</th>\n",
              "      <td>4/30/2014 23:26:00</td>\n",
              "      <td>40.7629</td>\n",
              "      <td>-73.9672</td>\n",
              "      <td>B02764</td>\n",
              "    </tr>\n",
              "    <tr>\n",
              "      <th>564513</th>\n",
              "      <td>4/30/2014 23:31:00</td>\n",
              "      <td>40.7443</td>\n",
              "      <td>-73.9889</td>\n",
              "      <td>B02764</td>\n",
              "    </tr>\n",
              "    <tr>\n",
              "      <th>564514</th>\n",
              "      <td>4/30/2014 23:32:00</td>\n",
              "      <td>40.6756</td>\n",
              "      <td>-73.9405</td>\n",
              "      <td>B02764</td>\n",
              "    </tr>\n",
              "    <tr>\n",
              "      <th>564515</th>\n",
              "      <td>4/30/2014 23:48:00</td>\n",
              "      <td>40.6880</td>\n",
              "      <td>-73.9608</td>\n",
              "      <td>B02764</td>\n",
              "    </tr>\n",
              "  </tbody>\n",
              "</table>\n",
              "<p>564516 rows × 4 columns</p>\n",
              "</div>"
            ],
            "text/plain": [
              "                     Fecha  Latitud  Longitud id_base\n",
              "0         4/1/2014 0:11:00  40.7690  -73.9549  B02512\n",
              "1         4/1/2014 0:17:00  40.7267  -74.0345  B02512\n",
              "2         4/1/2014 0:21:00  40.7316  -73.9873  B02512\n",
              "3         4/1/2014 0:28:00  40.7588  -73.9776  B02512\n",
              "4         4/1/2014 0:33:00  40.7594  -73.9722  B02512\n",
              "...                    ...      ...       ...     ...\n",
              "564511  4/30/2014 23:22:00  40.7640  -73.9744  B02764\n",
              "564512  4/30/2014 23:26:00  40.7629  -73.9672  B02764\n",
              "564513  4/30/2014 23:31:00  40.7443  -73.9889  B02764\n",
              "564514  4/30/2014 23:32:00  40.6756  -73.9405  B02764\n",
              "564515  4/30/2014 23:48:00  40.6880  -73.9608  B02764\n",
              "\n",
              "[564516 rows x 4 columns]"
            ]
          },
          "metadata": {
            "tags": []
          },
          "execution_count": 6
        }
      ]
    },
    {
      "cell_type": "code",
      "metadata": {
        "id": "diagnostic-possible",
        "outputId": "164f71cf-51fc-4c5d-f366-ff7be8439bc8"
      },
      "source": [
        "df_travels_abril_renamed.dtypes"
      ],
      "id": "diagnostic-possible",
      "execution_count": null,
      "outputs": [
        {
          "output_type": "execute_result",
          "data": {
            "text/plain": [
              "Fecha        object\n",
              "Latitud     float64\n",
              "Longitud    float64\n",
              "id_base      object\n",
              "dtype: object"
            ]
          },
          "metadata": {
            "tags": []
          },
          "execution_count": 7
        }
      ]
    },
    {
      "cell_type": "code",
      "metadata": {
        "id": "amber-printing"
      },
      "source": [
        "# Cambio el tipo de dato de caracter a datetime\n",
        "df_travels_abril_renamed['Fecha'] = pd.to_datetime(df_travels_abril_renamed['Fecha'])"
      ],
      "id": "amber-printing",
      "execution_count": null,
      "outputs": []
    },
    {
      "cell_type": "code",
      "metadata": {
        "scrolled": true,
        "id": "lightweight-sponsorship",
        "outputId": "c5944858-7321-4424-a612-b94b676a25de"
      },
      "source": [
        "df_travels_abril_renamed.head()"
      ],
      "id": "lightweight-sponsorship",
      "execution_count": null,
      "outputs": [
        {
          "output_type": "execute_result",
          "data": {
            "text/html": [
              "<div>\n",
              "<style scoped>\n",
              "    .dataframe tbody tr th:only-of-type {\n",
              "        vertical-align: middle;\n",
              "    }\n",
              "\n",
              "    .dataframe tbody tr th {\n",
              "        vertical-align: top;\n",
              "    }\n",
              "\n",
              "    .dataframe thead th {\n",
              "        text-align: right;\n",
              "    }\n",
              "</style>\n",
              "<table border=\"1\" class=\"dataframe\">\n",
              "  <thead>\n",
              "    <tr style=\"text-align: right;\">\n",
              "      <th></th>\n",
              "      <th>Fecha</th>\n",
              "      <th>Latitud</th>\n",
              "      <th>Longitud</th>\n",
              "      <th>id_base</th>\n",
              "    </tr>\n",
              "  </thead>\n",
              "  <tbody>\n",
              "    <tr>\n",
              "      <th>0</th>\n",
              "      <td>2014-04-01 00:11:00</td>\n",
              "      <td>40.7690</td>\n",
              "      <td>-73.9549</td>\n",
              "      <td>B02512</td>\n",
              "    </tr>\n",
              "    <tr>\n",
              "      <th>1</th>\n",
              "      <td>2014-04-01 00:17:00</td>\n",
              "      <td>40.7267</td>\n",
              "      <td>-74.0345</td>\n",
              "      <td>B02512</td>\n",
              "    </tr>\n",
              "    <tr>\n",
              "      <th>2</th>\n",
              "      <td>2014-04-01 00:21:00</td>\n",
              "      <td>40.7316</td>\n",
              "      <td>-73.9873</td>\n",
              "      <td>B02512</td>\n",
              "    </tr>\n",
              "    <tr>\n",
              "      <th>3</th>\n",
              "      <td>2014-04-01 00:28:00</td>\n",
              "      <td>40.7588</td>\n",
              "      <td>-73.9776</td>\n",
              "      <td>B02512</td>\n",
              "    </tr>\n",
              "    <tr>\n",
              "      <th>4</th>\n",
              "      <td>2014-04-01 00:33:00</td>\n",
              "      <td>40.7594</td>\n",
              "      <td>-73.9722</td>\n",
              "      <td>B02512</td>\n",
              "    </tr>\n",
              "  </tbody>\n",
              "</table>\n",
              "</div>"
            ],
            "text/plain": [
              "                Fecha  Latitud  Longitud id_base\n",
              "0 2014-04-01 00:11:00  40.7690  -73.9549  B02512\n",
              "1 2014-04-01 00:17:00  40.7267  -74.0345  B02512\n",
              "2 2014-04-01 00:21:00  40.7316  -73.9873  B02512\n",
              "3 2014-04-01 00:28:00  40.7588  -73.9776  B02512\n",
              "4 2014-04-01 00:33:00  40.7594  -73.9722  B02512"
            ]
          },
          "metadata": {
            "tags": []
          },
          "execution_count": 9
        }
      ]
    },
    {
      "cell_type": "code",
      "metadata": {
        "id": "nuclear-renaissance"
      },
      "source": [
        "def nombre_dia_semana(valor):\n",
        "    \n",
        "    ndia = valor.weekday()\n",
        "    if ndia == 1: return 'Lunes'\n",
        "    elif ndia == 2: return 'Martes'\n",
        "    elif ndia == 3: return 'Miercoles'\n",
        "    elif ndia == 4: return 'Jueves'\n",
        "    elif ndia == 5: return 'Viernes'\n",
        "    elif ndia == 6: return 'Sabado'\n",
        "    else: return 'Domingo'"
      ],
      "id": "nuclear-renaissance",
      "execution_count": null,
      "outputs": []
    },
    {
      "cell_type": "code",
      "metadata": {
        "id": "final-pharmaceutical"
      },
      "source": [
        "# Se agrega el campo DiaSemana\n",
        "df_travels_abril_renamed['DiaSemana'] = df_travels_abril_renamed['Fecha'].apply(nombre_dia_semana)"
      ],
      "id": "final-pharmaceutical",
      "execution_count": null,
      "outputs": []
    },
    {
      "cell_type": "code",
      "metadata": {
        "id": "built-february"
      },
      "source": [
        "def get_year(valor):\n",
        "    return valor.year\n"
      ],
      "id": "built-february",
      "execution_count": null,
      "outputs": []
    },
    {
      "cell_type": "code",
      "metadata": {
        "id": "casual-tomato"
      },
      "source": [
        "# Se agrega el campo Anio\n",
        "df_travels_abril_renamed['Anio'] = df_travels_abril_renamed['Fecha'].apply(get_year)"
      ],
      "id": "casual-tomato",
      "execution_count": null,
      "outputs": []
    },
    {
      "cell_type": "code",
      "metadata": {
        "id": "faced-commonwealth"
      },
      "source": [
        "def get_month(valor):\n",
        "    return valor.month"
      ],
      "id": "faced-commonwealth",
      "execution_count": null,
      "outputs": []
    },
    {
      "cell_type": "code",
      "metadata": {
        "id": "aggregate-infrared"
      },
      "source": [
        "# Se agrega el campo Mes\n",
        "df_travels_abril_renamed['Mes'] = df_travels_abril_renamed['Fecha'].apply(get_month)"
      ],
      "id": "aggregate-infrared",
      "execution_count": null,
      "outputs": []
    },
    {
      "cell_type": "code",
      "metadata": {
        "id": "extra-depth"
      },
      "source": [
        "def get_day(valor):\n",
        "    return valor.day"
      ],
      "id": "extra-depth",
      "execution_count": null,
      "outputs": []
    },
    {
      "cell_type": "code",
      "metadata": {
        "id": "divine-disorder"
      },
      "source": [
        "# Se agrega el campo Dia\n",
        "df_travels_abril_renamed['Dia'] = df_travels_abril_renamed['Fecha'].apply(get_day)"
      ],
      "id": "divine-disorder",
      "execution_count": null,
      "outputs": []
    },
    {
      "cell_type": "code",
      "metadata": {
        "id": "laughing-demand"
      },
      "source": [
        "def get_hour(valor):\n",
        "    return valor.hour"
      ],
      "id": "laughing-demand",
      "execution_count": null,
      "outputs": []
    },
    {
      "cell_type": "code",
      "metadata": {
        "id": "stable-diabetes"
      },
      "source": [
        "# Se agrega el campo Hora\n",
        "df_travels_abril_renamed['Hora'] = df_travels_abril_renamed['Fecha'].apply(get_hour)"
      ],
      "id": "stable-diabetes",
      "execution_count": null,
      "outputs": []
    },
    {
      "cell_type": "code",
      "metadata": {
        "id": "preceding-aluminum"
      },
      "source": [
        "def get_minute(valor):\n",
        "    return valor.minute"
      ],
      "id": "preceding-aluminum",
      "execution_count": null,
      "outputs": []
    },
    {
      "cell_type": "code",
      "metadata": {
        "id": "treated-novel"
      },
      "source": [
        "# Se agrega el campo Minuto\n",
        "df_travels_abril_renamed['Minuto'] = df_travels_abril_renamed['Fecha'].apply(get_minute)"
      ],
      "id": "treated-novel",
      "execution_count": null,
      "outputs": []
    },
    {
      "cell_type": "code",
      "metadata": {
        "id": "brave-contribution",
        "outputId": "3a9f8fbb-e701-48d9-8e5e-76640cb7a218"
      },
      "source": [
        "df_travels_abril_renamed.head()"
      ],
      "id": "brave-contribution",
      "execution_count": null,
      "outputs": [
        {
          "output_type": "execute_result",
          "data": {
            "text/html": [
              "<div>\n",
              "<style scoped>\n",
              "    .dataframe tbody tr th:only-of-type {\n",
              "        vertical-align: middle;\n",
              "    }\n",
              "\n",
              "    .dataframe tbody tr th {\n",
              "        vertical-align: top;\n",
              "    }\n",
              "\n",
              "    .dataframe thead th {\n",
              "        text-align: right;\n",
              "    }\n",
              "</style>\n",
              "<table border=\"1\" class=\"dataframe\">\n",
              "  <thead>\n",
              "    <tr style=\"text-align: right;\">\n",
              "      <th></th>\n",
              "      <th>Fecha</th>\n",
              "      <th>Latitud</th>\n",
              "      <th>Longitud</th>\n",
              "      <th>id_base</th>\n",
              "      <th>DiaSemana</th>\n",
              "      <th>Anio</th>\n",
              "      <th>Mes</th>\n",
              "      <th>Dia</th>\n",
              "      <th>Hora</th>\n",
              "      <th>Minuto</th>\n",
              "    </tr>\n",
              "  </thead>\n",
              "  <tbody>\n",
              "    <tr>\n",
              "      <th>0</th>\n",
              "      <td>2014-04-01 00:11:00</td>\n",
              "      <td>40.7690</td>\n",
              "      <td>-73.9549</td>\n",
              "      <td>B02512</td>\n",
              "      <td>Lunes</td>\n",
              "      <td>2014</td>\n",
              "      <td>4</td>\n",
              "      <td>1</td>\n",
              "      <td>0</td>\n",
              "      <td>11</td>\n",
              "    </tr>\n",
              "    <tr>\n",
              "      <th>1</th>\n",
              "      <td>2014-04-01 00:17:00</td>\n",
              "      <td>40.7267</td>\n",
              "      <td>-74.0345</td>\n",
              "      <td>B02512</td>\n",
              "      <td>Lunes</td>\n",
              "      <td>2014</td>\n",
              "      <td>4</td>\n",
              "      <td>1</td>\n",
              "      <td>0</td>\n",
              "      <td>17</td>\n",
              "    </tr>\n",
              "    <tr>\n",
              "      <th>2</th>\n",
              "      <td>2014-04-01 00:21:00</td>\n",
              "      <td>40.7316</td>\n",
              "      <td>-73.9873</td>\n",
              "      <td>B02512</td>\n",
              "      <td>Lunes</td>\n",
              "      <td>2014</td>\n",
              "      <td>4</td>\n",
              "      <td>1</td>\n",
              "      <td>0</td>\n",
              "      <td>21</td>\n",
              "    </tr>\n",
              "    <tr>\n",
              "      <th>3</th>\n",
              "      <td>2014-04-01 00:28:00</td>\n",
              "      <td>40.7588</td>\n",
              "      <td>-73.9776</td>\n",
              "      <td>B02512</td>\n",
              "      <td>Lunes</td>\n",
              "      <td>2014</td>\n",
              "      <td>4</td>\n",
              "      <td>1</td>\n",
              "      <td>0</td>\n",
              "      <td>28</td>\n",
              "    </tr>\n",
              "    <tr>\n",
              "      <th>4</th>\n",
              "      <td>2014-04-01 00:33:00</td>\n",
              "      <td>40.7594</td>\n",
              "      <td>-73.9722</td>\n",
              "      <td>B02512</td>\n",
              "      <td>Lunes</td>\n",
              "      <td>2014</td>\n",
              "      <td>4</td>\n",
              "      <td>1</td>\n",
              "      <td>0</td>\n",
              "      <td>33</td>\n",
              "    </tr>\n",
              "  </tbody>\n",
              "</table>\n",
              "</div>"
            ],
            "text/plain": [
              "                Fecha  Latitud  Longitud id_base DiaSemana  Anio  Mes  Dia  \\\n",
              "0 2014-04-01 00:11:00  40.7690  -73.9549  B02512     Lunes  2014    4    1   \n",
              "1 2014-04-01 00:17:00  40.7267  -74.0345  B02512     Lunes  2014    4    1   \n",
              "2 2014-04-01 00:21:00  40.7316  -73.9873  B02512     Lunes  2014    4    1   \n",
              "3 2014-04-01 00:28:00  40.7588  -73.9776  B02512     Lunes  2014    4    1   \n",
              "4 2014-04-01 00:33:00  40.7594  -73.9722  B02512     Lunes  2014    4    1   \n",
              "\n",
              "   Hora  Minuto  \n",
              "0     0      11  \n",
              "1     0      17  \n",
              "2     0      21  \n",
              "3     0      28  \n",
              "4     0      33  "
            ]
          },
          "metadata": {
            "tags": []
          },
          "execution_count": 22
        }
      ]
    },
    {
      "cell_type": "code",
      "metadata": {
        "id": "nutritional-anthropology",
        "outputId": "35649a21-8eea-45c2-892d-340271d94f85"
      },
      "source": [
        "df_travels_abril_renamed.isna().sum()"
      ],
      "id": "nutritional-anthropology",
      "execution_count": null,
      "outputs": [
        {
          "output_type": "execute_result",
          "data": {
            "text/plain": [
              "Fecha        0\n",
              "Latitud      0\n",
              "Longitud     0\n",
              "id_base      0\n",
              "DiaSemana    0\n",
              "Anio         0\n",
              "Mes          0\n",
              "Dia          0\n",
              "Hora         0\n",
              "Minuto       0\n",
              "dtype: int64"
            ]
          },
          "metadata": {
            "tags": []
          },
          "execution_count": 23
        }
      ]
    },
    {
      "cell_type": "code",
      "metadata": {
        "id": "rolled-anchor",
        "outputId": "28db613f-e071-4938-a306-f1dd7328beaa"
      },
      "source": [
        "df_travels_abril_sum_bases = df_travels_abril_renamed.groupby('id_base').size()\n",
        "df_travels_abril_sum_bases.sort_values(ascending=False)"
      ],
      "id": "rolled-anchor",
      "execution_count": null,
      "outputs": [
        {
          "output_type": "execute_result",
          "data": {
            "text/plain": [
              "id_base\n",
              "B02682    227808\n",
              "B02598    183263\n",
              "B02617    108001\n",
              "B02512     35536\n",
              "B02764      9908\n",
              "dtype: int64"
            ]
          },
          "metadata": {
            "tags": []
          },
          "execution_count": 25
        }
      ]
    },
    {
      "cell_type": "code",
      "metadata": {
        "id": "viral-variation",
        "outputId": "cb00a569-7168-4550-99ef-e7a6df326588"
      },
      "source": [
        "df_travels_abril_sum_hora = df_travels_abril_renamed.groupby('Hora').size()\n",
        "df_travels_abril_sum_hora.sort_values(ascending=False)"
      ],
      "id": "viral-variation",
      "execution_count": null,
      "outputs": [
        {
          "output_type": "execute_result",
          "data": {
            "text/plain": [
              "Hora\n",
              "17    45475\n",
              "18    43003\n",
              "16    42003\n",
              "19    38923\n",
              "21    36964\n",
              "20    36244\n",
              "15    35324\n",
              "22    30645\n",
              "14    27190\n",
              "7     24924\n",
              "8     22843\n",
              "13    22603\n",
              "23    20649\n",
              "12    19425\n",
              "11    18774\n",
              "6     18498\n",
              "9     17939\n",
              "10    17865\n",
              "0     11910\n",
              "5      9476\n",
              "1      7769\n",
              "4      6095\n",
              "3      5040\n",
              "2      4935\n",
              "dtype: int64"
            ]
          },
          "metadata": {
            "tags": []
          },
          "execution_count": 26
        }
      ]
    },
    {
      "cell_type": "code",
      "metadata": {
        "id": "coupled-yahoo"
      },
      "source": [
        ""
      ],
      "id": "coupled-yahoo",
      "execution_count": null,
      "outputs": []
    }
  ]
}