{
  "nbformat": 4,
  "nbformat_minor": 5,
  "metadata": {
    "kernelspec": {
      "display_name": "Python 3",
      "language": "python",
      "name": "python3"
    },
    "language_info": {
      "codemirror_mode": {
        "name": "ipython",
        "version": 3
      },
      "file_extension": ".py",
      "mimetype": "text/x-python",
      "name": "python",
      "nbconvert_exporter": "python",
      "pygments_lexer": "ipython3",
      "version": "3.9.2"
    },
    "colab": {
      "name": "Uber_BaseDatos_Viajes.ipynb",
      "provenance": [],
      "include_colab_link": true
    }
  },
  "cells": [
    {
      "cell_type": "markdown",
      "metadata": {
        "id": "view-in-github",
        "colab_type": "text"
      },
      "source": [
        "<a href=\"https://colab.research.google.com/github/DayeMorga28/Proyecto_Uber_Phyton/blob/main/Uber_BaseDatos_Viajes.ipynb\" target=\"_parent\"><img src=\"https://colab.research.google.com/assets/colab-badge.svg\" alt=\"Open In Colab\"/></a>"
      ]
    },
    {
      "cell_type": "code",
      "metadata": {
        "id": "exterior-secondary"
      },
      "source": [
        "##################################################################################\n",
        "#         U B E R   Y   O T R O S   S E R V I C I O S                            #\n",
        "##################################################################################\n"
      ],
      "id": "exterior-secondary",
      "execution_count": null,
      "outputs": []
    },
    {
      "cell_type": "code",
      "metadata": {
        "id": "superb-quality"
      },
      "source": [
        "# Carga de librerias\n",
        "import pandas as pd"
      ],
      "id": "superb-quality",
      "execution_count": 4,
      "outputs": []
    },
    {
      "cell_type": "code",
      "metadata": {
        "colab": {
          "base_uri": "https://localhost:8080/",
          "height": 35
        },
        "id": "spp5SPATtCkR",
        "outputId": "cd3030fa-19df-44c6-93ae-7e9794cf657d"
      },
      "source": [
        "i = 10\n",
        "url = 'https://raw.githubusercontent.com/DayeMorga28/Proyecto_Uber_Phyton/main/uber-raw-data-'+str(i)+'14.csv'\n",
        "url"
      ],
      "id": "spp5SPATtCkR",
      "execution_count": 30,
      "outputs": [
        {
          "output_type": "execute_result",
          "data": {
            "application/vnd.google.colaboratory.intrinsic+json": {
              "type": "string"
            },
            "text/plain": [
              "'https://raw.githubusercontent.com/DayeMorga28/Proyecto_Uber_Phyton/main/uber-raw-data-1014.csv'"
            ]
          },
          "metadata": {
            "tags": []
          },
          "execution_count": 30
        }
      ]
    },
    {
      "cell_type": "code",
      "metadata": {
        "id": "homeless-pavilion",
        "colab": {
          "base_uri": "https://localhost:8080/"
        },
        "outputId": "215b1374-3eba-4541-ae76-cd3f8d6f511e"
      },
      "source": [
        "# 2. Carga de datos de viajes de 2014.\n",
        "\n",
        "dict_datos = {}\n",
        "\n",
        "for i in range(4, 15):\n",
        "  try:\n",
        "    if (i < 10):\n",
        "      url = 'https://raw.githubusercontent.com/DayeMorga28/Proyecto_Uber_Phyton/main/uber-raw-data-0'+str(i)+'14.csv'\n",
        "    else:\n",
        "      url = 'https://raw.githubusercontent.com/DayeMorga28/Proyecto_Uber_Phyton/main/uber-raw-data-'+str(i)+'14.csv'\n",
        "    df_travels = pd.read_csv(url)\n",
        "    dict_datos[i-4] = df_travels\n",
        "  except:\n",
        "    continue\n"
      ],
      "id": "homeless-pavilion",
      "execution_count": 39,
      "outputs": [
        {
          "output_type": "stream",
          "text": [
            "/usr/local/lib/python3.7/dist-packages/IPython/core/interactiveshell.py:2718: DtypeWarning: Columns (0,3) have mixed types.Specify dtype option on import or set low_memory=False.\n",
            "  interactivity=interactivity, compiler=compiler, result=result)\n"
          ],
          "name": "stderr"
        }
      ]
    },
    {
      "cell_type": "code",
      "metadata": {
        "id": "hyE6Qj8ci8yh"
      },
      "source": [
        "lista_de_dataframes = []\n",
        "\n",
        "for i in range(0, 11):\n",
        "    lista_de_dataframes.append(dict_datos[i])"
      ],
      "id": "hyE6Qj8ci8yh",
      "execution_count": 43,
      "outputs": []
    },
    {
      "cell_type": "code",
      "metadata": {
        "id": "fUSR0TmS0mos"
      },
      "source": [
        "df_travels_ubers_2014 = pd.concat(lista_de_dataframes, axis=0).reset_index(drop=True)"
      ],
      "id": "fUSR0TmS0mos",
      "execution_count": 58,
      "outputs": []
    },
    {
      "cell_type": "code",
      "metadata": {
        "id": "SXWq3nlZAWIt",
        "colab": {
          "base_uri": "https://localhost:8080/",
          "height": 204
        },
        "outputId": "0ce2cab3-5166-494f-b4dd-9c43af871a6a"
      },
      "source": [
        "df_travels_ubers_2014.head()"
      ],
      "id": "SXWq3nlZAWIt",
      "execution_count": 59,
      "outputs": [
        {
          "output_type": "execute_result",
          "data": {
            "text/html": [
              "<div>\n",
              "<style scoped>\n",
              "    .dataframe tbody tr th:only-of-type {\n",
              "        vertical-align: middle;\n",
              "    }\n",
              "\n",
              "    .dataframe tbody tr th {\n",
              "        vertical-align: top;\n",
              "    }\n",
              "\n",
              "    .dataframe thead th {\n",
              "        text-align: right;\n",
              "    }\n",
              "</style>\n",
              "<table border=\"1\" class=\"dataframe\">\n",
              "  <thead>\n",
              "    <tr style=\"text-align: right;\">\n",
              "      <th></th>\n",
              "      <th>Date/Time</th>\n",
              "      <th>Lat</th>\n",
              "      <th>Lon</th>\n",
              "      <th>Base</th>\n",
              "    </tr>\n",
              "  </thead>\n",
              "  <tbody>\n",
              "    <tr>\n",
              "      <th>0</th>\n",
              "      <td>4/1/2014 0:11:00</td>\n",
              "      <td>40.7690</td>\n",
              "      <td>-73.9549</td>\n",
              "      <td>B02512</td>\n",
              "    </tr>\n",
              "    <tr>\n",
              "      <th>1</th>\n",
              "      <td>4/1/2014 0:17:00</td>\n",
              "      <td>40.7267</td>\n",
              "      <td>-74.0345</td>\n",
              "      <td>B02512</td>\n",
              "    </tr>\n",
              "    <tr>\n",
              "      <th>2</th>\n",
              "      <td>4/1/2014 0:21:00</td>\n",
              "      <td>40.7316</td>\n",
              "      <td>-73.9873</td>\n",
              "      <td>B02512</td>\n",
              "    </tr>\n",
              "    <tr>\n",
              "      <th>3</th>\n",
              "      <td>4/1/2014 0:28:00</td>\n",
              "      <td>40.7588</td>\n",
              "      <td>-73.9776</td>\n",
              "      <td>B02512</td>\n",
              "    </tr>\n",
              "    <tr>\n",
              "      <th>4</th>\n",
              "      <td>4/1/2014 0:33:00</td>\n",
              "      <td>40.7594</td>\n",
              "      <td>-73.9722</td>\n",
              "      <td>B02512</td>\n",
              "    </tr>\n",
              "  </tbody>\n",
              "</table>\n",
              "</div>"
            ],
            "text/plain": [
              "          Date/Time      Lat      Lon    Base\n",
              "0  4/1/2014 0:11:00  40.7690 -73.9549  B02512\n",
              "1  4/1/2014 0:17:00  40.7267 -74.0345  B02512\n",
              "2  4/1/2014 0:21:00  40.7316 -73.9873  B02512\n",
              "3  4/1/2014 0:28:00  40.7588 -73.9776  B02512\n",
              "4  4/1/2014 0:33:00  40.7594 -73.9722  B02512"
            ]
          },
          "metadata": {
            "tags": []
          },
          "execution_count": 59
        }
      ]
    },
    {
      "cell_type": "code",
      "metadata": {
        "id": "hPtrZCCd1Yqx",
        "outputId": "00f99a5b-7159-4070-e35e-07073a049564",
        "colab": {
          "base_uri": "https://localhost:8080/",
          "height": 204
        }
      },
      "source": [
        "df_travels_ubers_2014.tail()"
      ],
      "id": "hPtrZCCd1Yqx",
      "execution_count": 60,
      "outputs": [
        {
          "output_type": "execute_result",
          "data": {
            "text/html": [
              "<div>\n",
              "<style scoped>\n",
              "    .dataframe tbody tr th:only-of-type {\n",
              "        vertical-align: middle;\n",
              "    }\n",
              "\n",
              "    .dataframe tbody tr th {\n",
              "        vertical-align: top;\n",
              "    }\n",
              "\n",
              "    .dataframe thead th {\n",
              "        text-align: right;\n",
              "    }\n",
              "</style>\n",
              "<table border=\"1\" class=\"dataframe\">\n",
              "  <thead>\n",
              "    <tr style=\"text-align: right;\">\n",
              "      <th></th>\n",
              "      <th>Date/Time</th>\n",
              "      <th>Lat</th>\n",
              "      <th>Lon</th>\n",
              "      <th>Base</th>\n",
              "    </tr>\n",
              "  </thead>\n",
              "  <tbody>\n",
              "    <tr>\n",
              "      <th>5968217</th>\n",
              "      <td>9/30/2014 22:57:00</td>\n",
              "      <td>40.7668</td>\n",
              "      <td>-73.9845</td>\n",
              "      <td>B02764</td>\n",
              "    </tr>\n",
              "    <tr>\n",
              "      <th>5968218</th>\n",
              "      <td>9/30/2014 22:57:00</td>\n",
              "      <td>40.6911</td>\n",
              "      <td>-74.1773</td>\n",
              "      <td>B02764</td>\n",
              "    </tr>\n",
              "    <tr>\n",
              "      <th>5968219</th>\n",
              "      <td>9/30/2014 22:58:00</td>\n",
              "      <td>40.8519</td>\n",
              "      <td>-73.9319</td>\n",
              "      <td>B02764</td>\n",
              "    </tr>\n",
              "    <tr>\n",
              "      <th>5968220</th>\n",
              "      <td>9/30/2014 22:58:00</td>\n",
              "      <td>40.7081</td>\n",
              "      <td>-74.0066</td>\n",
              "      <td>B02764</td>\n",
              "    </tr>\n",
              "    <tr>\n",
              "      <th>5968221</th>\n",
              "      <td>9/30/2014 22:58:00</td>\n",
              "      <td>40.7140</td>\n",
              "      <td>-73.9496</td>\n",
              "      <td>B02764</td>\n",
              "    </tr>\n",
              "  </tbody>\n",
              "</table>\n",
              "</div>"
            ],
            "text/plain": [
              "                  Date/Time      Lat      Lon    Base\n",
              "5968217  9/30/2014 22:57:00  40.7668 -73.9845  B02764\n",
              "5968218  9/30/2014 22:57:00  40.6911 -74.1773  B02764\n",
              "5968219  9/30/2014 22:58:00  40.8519 -73.9319  B02764\n",
              "5968220  9/30/2014 22:58:00  40.7081 -74.0066  B02764\n",
              "5968221  9/30/2014 22:58:00  40.7140 -73.9496  B02764"
            ]
          },
          "metadata": {
            "tags": []
          },
          "execution_count": 60
        }
      ]
    },
    {
      "cell_type": "code",
      "metadata": {
        "id": "chinese-geology",
        "colab": {
          "base_uri": "https://localhost:8080/"
        },
        "outputId": "c2bf7feb-80f4-4070-d25e-b0dbf8e90cdc"
      },
      "source": [
        "df_travels_ubers_2014.dtypes"
      ],
      "id": "chinese-geology",
      "execution_count": 61,
      "outputs": [
        {
          "output_type": "execute_result",
          "data": {
            "text/plain": [
              "Date/Time     object\n",
              "Lat          float64\n",
              "Lon          float64\n",
              "Base          object\n",
              "dtype: object"
            ]
          },
          "metadata": {
            "tags": []
          },
          "execution_count": 61
        }
      ]
    },
    {
      "cell_type": "code",
      "metadata": {
        "id": "literary-swift"
      },
      "source": [
        "# Renombrando columnas\n",
        "column_name_mapping = {\n",
        "    'Date/Time': 'Fecha',\n",
        "    'Lat': 'Latitud',\n",
        "    'Lon': 'Longitud',\n",
        "    'Base': 'id_base'\n",
        "}"
      ],
      "id": "literary-swift",
      "execution_count": 62,
      "outputs": []
    },
    {
      "cell_type": "code",
      "metadata": {
        "id": "split-kitchen",
        "colab": {
          "base_uri": "https://localhost:8080/",
          "height": 419
        },
        "outputId": "a8434240-3122-49fd-c80f-4386024f1001"
      },
      "source": [
        "df_travels_ubers_2014_renamed = df_travels_ubers_2014.rename(columns=column_name_mapping)\n",
        "df_travels_ubers_2014_renamed"
      ],
      "id": "split-kitchen",
      "execution_count": 66,
      "outputs": [
        {
          "output_type": "execute_result",
          "data": {
            "text/html": [
              "<div>\n",
              "<style scoped>\n",
              "    .dataframe tbody tr th:only-of-type {\n",
              "        vertical-align: middle;\n",
              "    }\n",
              "\n",
              "    .dataframe tbody tr th {\n",
              "        vertical-align: top;\n",
              "    }\n",
              "\n",
              "    .dataframe thead th {\n",
              "        text-align: right;\n",
              "    }\n",
              "</style>\n",
              "<table border=\"1\" class=\"dataframe\">\n",
              "  <thead>\n",
              "    <tr style=\"text-align: right;\">\n",
              "      <th></th>\n",
              "      <th>Fecha</th>\n",
              "      <th>Latitud</th>\n",
              "      <th>Longitud</th>\n",
              "      <th>id_base</th>\n",
              "    </tr>\n",
              "  </thead>\n",
              "  <tbody>\n",
              "    <tr>\n",
              "      <th>0</th>\n",
              "      <td>4/1/2014 0:11:00</td>\n",
              "      <td>40.7690</td>\n",
              "      <td>-73.9549</td>\n",
              "      <td>B02512</td>\n",
              "    </tr>\n",
              "    <tr>\n",
              "      <th>1</th>\n",
              "      <td>4/1/2014 0:17:00</td>\n",
              "      <td>40.7267</td>\n",
              "      <td>-74.0345</td>\n",
              "      <td>B02512</td>\n",
              "    </tr>\n",
              "    <tr>\n",
              "      <th>2</th>\n",
              "      <td>4/1/2014 0:21:00</td>\n",
              "      <td>40.7316</td>\n",
              "      <td>-73.9873</td>\n",
              "      <td>B02512</td>\n",
              "    </tr>\n",
              "    <tr>\n",
              "      <th>3</th>\n",
              "      <td>4/1/2014 0:28:00</td>\n",
              "      <td>40.7588</td>\n",
              "      <td>-73.9776</td>\n",
              "      <td>B02512</td>\n",
              "    </tr>\n",
              "    <tr>\n",
              "      <th>4</th>\n",
              "      <td>4/1/2014 0:33:00</td>\n",
              "      <td>40.7594</td>\n",
              "      <td>-73.9722</td>\n",
              "      <td>B02512</td>\n",
              "    </tr>\n",
              "    <tr>\n",
              "      <th>...</th>\n",
              "      <td>...</td>\n",
              "      <td>...</td>\n",
              "      <td>...</td>\n",
              "      <td>...</td>\n",
              "    </tr>\n",
              "    <tr>\n",
              "      <th>5968217</th>\n",
              "      <td>9/30/2014 22:57:00</td>\n",
              "      <td>40.7668</td>\n",
              "      <td>-73.9845</td>\n",
              "      <td>B02764</td>\n",
              "    </tr>\n",
              "    <tr>\n",
              "      <th>5968218</th>\n",
              "      <td>9/30/2014 22:57:00</td>\n",
              "      <td>40.6911</td>\n",
              "      <td>-74.1773</td>\n",
              "      <td>B02764</td>\n",
              "    </tr>\n",
              "    <tr>\n",
              "      <th>5968219</th>\n",
              "      <td>9/30/2014 22:58:00</td>\n",
              "      <td>40.8519</td>\n",
              "      <td>-73.9319</td>\n",
              "      <td>B02764</td>\n",
              "    </tr>\n",
              "    <tr>\n",
              "      <th>5968220</th>\n",
              "      <td>9/30/2014 22:58:00</td>\n",
              "      <td>40.7081</td>\n",
              "      <td>-74.0066</td>\n",
              "      <td>B02764</td>\n",
              "    </tr>\n",
              "    <tr>\n",
              "      <th>5968221</th>\n",
              "      <td>9/30/2014 22:58:00</td>\n",
              "      <td>40.7140</td>\n",
              "      <td>-73.9496</td>\n",
              "      <td>B02764</td>\n",
              "    </tr>\n",
              "  </tbody>\n",
              "</table>\n",
              "<p>5968222 rows × 4 columns</p>\n",
              "</div>"
            ],
            "text/plain": [
              "                      Fecha  Latitud  Longitud id_base\n",
              "0          4/1/2014 0:11:00  40.7690  -73.9549  B02512\n",
              "1          4/1/2014 0:17:00  40.7267  -74.0345  B02512\n",
              "2          4/1/2014 0:21:00  40.7316  -73.9873  B02512\n",
              "3          4/1/2014 0:28:00  40.7588  -73.9776  B02512\n",
              "4          4/1/2014 0:33:00  40.7594  -73.9722  B02512\n",
              "...                     ...      ...       ...     ...\n",
              "5968217  9/30/2014 22:57:00  40.7668  -73.9845  B02764\n",
              "5968218  9/30/2014 22:57:00  40.6911  -74.1773  B02764\n",
              "5968219  9/30/2014 22:58:00  40.8519  -73.9319  B02764\n",
              "5968220  9/30/2014 22:58:00  40.7081  -74.0066  B02764\n",
              "5968221  9/30/2014 22:58:00  40.7140  -73.9496  B02764\n",
              "\n",
              "[5968222 rows x 4 columns]"
            ]
          },
          "metadata": {
            "tags": []
          },
          "execution_count": 66
        }
      ]
    },
    {
      "cell_type": "code",
      "metadata": {
        "id": "diagnostic-possible",
        "colab": {
          "base_uri": "https://localhost:8080/"
        },
        "outputId": "aed0007c-b4ee-4e3f-8930-379170791df1"
      },
      "source": [
        "df_travels_ubers_2014_renamed.dtypes"
      ],
      "id": "diagnostic-possible",
      "execution_count": 67,
      "outputs": [
        {
          "output_type": "execute_result",
          "data": {
            "text/plain": [
              "Fecha        object\n",
              "Latitud     float64\n",
              "Longitud    float64\n",
              "id_base      object\n",
              "dtype: object"
            ]
          },
          "metadata": {
            "tags": []
          },
          "execution_count": 67
        }
      ]
    },
    {
      "cell_type": "code",
      "metadata": {
        "id": "amber-printing"
      },
      "source": [
        "# Cambio el tipo de dato de caracter a datetime\n",
        "df_travels_ubers_2014_renamed['Fecha'] = pd.to_datetime(df_travels_ubers_2014_renamed['Fecha'])"
      ],
      "id": "amber-printing",
      "execution_count": 68,
      "outputs": []
    },
    {
      "cell_type": "code",
      "metadata": {
        "scrolled": true,
        "id": "lightweight-sponsorship",
        "colab": {
          "base_uri": "https://localhost:8080/",
          "height": 204
        },
        "outputId": "6fff2047-44bb-46e9-8cc6-8b8f52d8b24d"
      },
      "source": [
        "df_travels_ubers_2014_renamed.head()"
      ],
      "id": "lightweight-sponsorship",
      "execution_count": 69,
      "outputs": [
        {
          "output_type": "execute_result",
          "data": {
            "text/html": [
              "<div>\n",
              "<style scoped>\n",
              "    .dataframe tbody tr th:only-of-type {\n",
              "        vertical-align: middle;\n",
              "    }\n",
              "\n",
              "    .dataframe tbody tr th {\n",
              "        vertical-align: top;\n",
              "    }\n",
              "\n",
              "    .dataframe thead th {\n",
              "        text-align: right;\n",
              "    }\n",
              "</style>\n",
              "<table border=\"1\" class=\"dataframe\">\n",
              "  <thead>\n",
              "    <tr style=\"text-align: right;\">\n",
              "      <th></th>\n",
              "      <th>Fecha</th>\n",
              "      <th>Latitud</th>\n",
              "      <th>Longitud</th>\n",
              "      <th>id_base</th>\n",
              "    </tr>\n",
              "  </thead>\n",
              "  <tbody>\n",
              "    <tr>\n",
              "      <th>0</th>\n",
              "      <td>2014-04-01 00:11:00</td>\n",
              "      <td>40.7690</td>\n",
              "      <td>-73.9549</td>\n",
              "      <td>B02512</td>\n",
              "    </tr>\n",
              "    <tr>\n",
              "      <th>1</th>\n",
              "      <td>2014-04-01 00:17:00</td>\n",
              "      <td>40.7267</td>\n",
              "      <td>-74.0345</td>\n",
              "      <td>B02512</td>\n",
              "    </tr>\n",
              "    <tr>\n",
              "      <th>2</th>\n",
              "      <td>2014-04-01 00:21:00</td>\n",
              "      <td>40.7316</td>\n",
              "      <td>-73.9873</td>\n",
              "      <td>B02512</td>\n",
              "    </tr>\n",
              "    <tr>\n",
              "      <th>3</th>\n",
              "      <td>2014-04-01 00:28:00</td>\n",
              "      <td>40.7588</td>\n",
              "      <td>-73.9776</td>\n",
              "      <td>B02512</td>\n",
              "    </tr>\n",
              "    <tr>\n",
              "      <th>4</th>\n",
              "      <td>2014-04-01 00:33:00</td>\n",
              "      <td>40.7594</td>\n",
              "      <td>-73.9722</td>\n",
              "      <td>B02512</td>\n",
              "    </tr>\n",
              "  </tbody>\n",
              "</table>\n",
              "</div>"
            ],
            "text/plain": [
              "                Fecha  Latitud  Longitud id_base\n",
              "0 2014-04-01 00:11:00  40.7690  -73.9549  B02512\n",
              "1 2014-04-01 00:17:00  40.7267  -74.0345  B02512\n",
              "2 2014-04-01 00:21:00  40.7316  -73.9873  B02512\n",
              "3 2014-04-01 00:28:00  40.7588  -73.9776  B02512\n",
              "4 2014-04-01 00:33:00  40.7594  -73.9722  B02512"
            ]
          },
          "metadata": {
            "tags": []
          },
          "execution_count": 69
        }
      ]
    },
    {
      "cell_type": "code",
      "metadata": {
        "id": "S-Hy_T4o6i3A",
        "outputId": "a2d25e7d-6dfb-4c16-df0d-432da18bd947",
        "colab": {
          "base_uri": "https://localhost:8080/"
        }
      },
      "source": [
        "df_travels_ubers_2014_renamed.isna().sum()"
      ],
      "id": "S-Hy_T4o6i3A",
      "execution_count": 71,
      "outputs": [
        {
          "output_type": "execute_result",
          "data": {
            "text/plain": [
              "Fecha       1433895\n",
              "Latitud     1433895\n",
              "Longitud    1433895\n",
              "id_base     1433895\n",
              "dtype: int64"
            ]
          },
          "metadata": {
            "tags": []
          },
          "execution_count": 71
        }
      ]
    },
    {
      "cell_type": "code",
      "metadata": {
        "id": "yN4QFE0V7OhO"
      },
      "source": [
        "df_travels_ubers_2014_clean =  df_travels_ubers_2014_renamed.dropna(axis=0, how='all')"
      ],
      "id": "yN4QFE0V7OhO",
      "execution_count": 75,
      "outputs": []
    },
    {
      "cell_type": "code",
      "metadata": {
        "id": "1OPMsfIh7SdJ",
        "outputId": "8a3d41f4-0149-423b-cb29-5484d9531792",
        "colab": {
          "base_uri": "https://localhost:8080/"
        }
      },
      "source": [
        "df_travels_ubers_2014_clean.isna().sum()"
      ],
      "id": "1OPMsfIh7SdJ",
      "execution_count": 76,
      "outputs": [
        {
          "output_type": "execute_result",
          "data": {
            "text/plain": [
              "Fecha       0\n",
              "Latitud     0\n",
              "Longitud    0\n",
              "id_base     0\n",
              "dtype: int64"
            ]
          },
          "metadata": {
            "tags": []
          },
          "execution_count": 76
        }
      ]
    },
    {
      "cell_type": "code",
      "metadata": {
        "id": "nuclear-renaissance"
      },
      "source": [
        "def nombre_dia_semana(valor):\n",
        "    \n",
        "    ndia = valor.weekday()\n",
        "    if ndia == 1: return 'Lunes'\n",
        "    elif ndia == 2: return 'Martes'\n",
        "    elif ndia == 3: return 'Miercoles'\n",
        "    elif ndia == 4: return 'Jueves'\n",
        "    elif ndia == 5: return 'Viernes'\n",
        "    elif ndia == 6: return 'Sabado'\n",
        "    else: return 'Domingo'"
      ],
      "id": "nuclear-renaissance",
      "execution_count": 77,
      "outputs": []
    },
    {
      "cell_type": "code",
      "metadata": {
        "id": "final-pharmaceutical",
        "colab": {
          "base_uri": "https://localhost:8080/"
        },
        "outputId": "ec3f3890-e1ca-400e-c9fe-f74626225820"
      },
      "source": [
        "# Se agrega el campo DiaSemana\n",
        "df_travels_ubers_2014_clean['DiaSemana'] = df_travels_ubers_2014_clean['Fecha'].apply(nombre_dia_semana)"
      ],
      "id": "final-pharmaceutical",
      "execution_count": 78,
      "outputs": [
        {
          "output_type": "stream",
          "text": [
            "/usr/local/lib/python3.7/dist-packages/ipykernel_launcher.py:2: SettingWithCopyWarning: \n",
            "A value is trying to be set on a copy of a slice from a DataFrame.\n",
            "Try using .loc[row_indexer,col_indexer] = value instead\n",
            "\n",
            "See the caveats in the documentation: https://pandas.pydata.org/pandas-docs/stable/user_guide/indexing.html#returning-a-view-versus-a-copy\n",
            "  \n"
          ],
          "name": "stderr"
        }
      ]
    },
    {
      "cell_type": "code",
      "metadata": {
        "id": "built-february"
      },
      "source": [
        "def get_year(valor):\n",
        "    return valor.year\n"
      ],
      "id": "built-february",
      "execution_count": 79,
      "outputs": []
    },
    {
      "cell_type": "code",
      "metadata": {
        "id": "casual-tomato",
        "colab": {
          "base_uri": "https://localhost:8080/"
        },
        "outputId": "50bc3740-a35f-4f8d-b7a2-322dc0f015d8"
      },
      "source": [
        "# Se agrega el campo Anio\n",
        "df_travels_ubers_2014_clean['Anio'] = df_travels_ubers_2014_clean['Fecha'].apply(get_year)"
      ],
      "id": "casual-tomato",
      "execution_count": 80,
      "outputs": [
        {
          "output_type": "stream",
          "text": [
            "/usr/local/lib/python3.7/dist-packages/ipykernel_launcher.py:2: SettingWithCopyWarning: \n",
            "A value is trying to be set on a copy of a slice from a DataFrame.\n",
            "Try using .loc[row_indexer,col_indexer] = value instead\n",
            "\n",
            "See the caveats in the documentation: https://pandas.pydata.org/pandas-docs/stable/user_guide/indexing.html#returning-a-view-versus-a-copy\n",
            "  \n"
          ],
          "name": "stderr"
        }
      ]
    },
    {
      "cell_type": "code",
      "metadata": {
        "id": "faced-commonwealth"
      },
      "source": [
        "def get_month(valor):\n",
        "    return valor.month"
      ],
      "id": "faced-commonwealth",
      "execution_count": 81,
      "outputs": []
    },
    {
      "cell_type": "code",
      "metadata": {
        "id": "aggregate-infrared",
        "colab": {
          "base_uri": "https://localhost:8080/"
        },
        "outputId": "e56b3885-13b0-4756-ac6d-05f146f900fd"
      },
      "source": [
        "# Se agrega el campo Mes\n",
        "df_travels_ubers_2014_clean['Mes'] = df_travels_ubers_2014_clean['Fecha'].apply(get_month)"
      ],
      "id": "aggregate-infrared",
      "execution_count": 82,
      "outputs": [
        {
          "output_type": "stream",
          "text": [
            "/usr/local/lib/python3.7/dist-packages/ipykernel_launcher.py:2: SettingWithCopyWarning: \n",
            "A value is trying to be set on a copy of a slice from a DataFrame.\n",
            "Try using .loc[row_indexer,col_indexer] = value instead\n",
            "\n",
            "See the caveats in the documentation: https://pandas.pydata.org/pandas-docs/stable/user_guide/indexing.html#returning-a-view-versus-a-copy\n",
            "  \n"
          ],
          "name": "stderr"
        }
      ]
    },
    {
      "cell_type": "code",
      "metadata": {
        "id": "extra-depth"
      },
      "source": [
        "def get_day(valor):\n",
        "    return valor.day"
      ],
      "id": "extra-depth",
      "execution_count": 83,
      "outputs": []
    },
    {
      "cell_type": "code",
      "metadata": {
        "id": "divine-disorder",
        "colab": {
          "base_uri": "https://localhost:8080/"
        },
        "outputId": "59940fc5-c321-4807-e040-a146fd6f8eee"
      },
      "source": [
        "# Se agrega el campo Dia\n",
        "df_travels_ubers_2014_clean['Dia'] = df_travels_ubers_2014_clean['Fecha'].apply(get_day)"
      ],
      "id": "divine-disorder",
      "execution_count": 84,
      "outputs": [
        {
          "output_type": "stream",
          "text": [
            "/usr/local/lib/python3.7/dist-packages/ipykernel_launcher.py:2: SettingWithCopyWarning: \n",
            "A value is trying to be set on a copy of a slice from a DataFrame.\n",
            "Try using .loc[row_indexer,col_indexer] = value instead\n",
            "\n",
            "See the caveats in the documentation: https://pandas.pydata.org/pandas-docs/stable/user_guide/indexing.html#returning-a-view-versus-a-copy\n",
            "  \n"
          ],
          "name": "stderr"
        }
      ]
    },
    {
      "cell_type": "code",
      "metadata": {
        "id": "laughing-demand"
      },
      "source": [
        "def get_hour(valor):\n",
        "    return valor.hour"
      ],
      "id": "laughing-demand",
      "execution_count": 85,
      "outputs": []
    },
    {
      "cell_type": "code",
      "metadata": {
        "id": "stable-diabetes",
        "colab": {
          "base_uri": "https://localhost:8080/"
        },
        "outputId": "ac8de56d-4297-4e12-b1c8-bd0d994cd8c8"
      },
      "source": [
        "# Se agrega el campo Hora\n",
        "df_travels_ubers_2014_clean['Hora'] = df_travels_ubers_2014_clean['Fecha'].apply(get_hour)"
      ],
      "id": "stable-diabetes",
      "execution_count": 86,
      "outputs": [
        {
          "output_type": "stream",
          "text": [
            "/usr/local/lib/python3.7/dist-packages/ipykernel_launcher.py:2: SettingWithCopyWarning: \n",
            "A value is trying to be set on a copy of a slice from a DataFrame.\n",
            "Try using .loc[row_indexer,col_indexer] = value instead\n",
            "\n",
            "See the caveats in the documentation: https://pandas.pydata.org/pandas-docs/stable/user_guide/indexing.html#returning-a-view-versus-a-copy\n",
            "  \n"
          ],
          "name": "stderr"
        }
      ]
    },
    {
      "cell_type": "code",
      "metadata": {
        "id": "preceding-aluminum"
      },
      "source": [
        "def get_minute(valor):\n",
        "    return valor.minute"
      ],
      "id": "preceding-aluminum",
      "execution_count": 87,
      "outputs": []
    },
    {
      "cell_type": "code",
      "metadata": {
        "id": "treated-novel",
        "colab": {
          "base_uri": "https://localhost:8080/"
        },
        "outputId": "47f30f34-9687-45e0-bd08-0bb9a8d23f46"
      },
      "source": [
        "# Se agrega el campo Minuto\n",
        "df_travels_ubers_2014_clean['Minuto'] = df_travels_ubers_2014_clean['Fecha'].apply(get_minute)"
      ],
      "id": "treated-novel",
      "execution_count": 88,
      "outputs": [
        {
          "output_type": "stream",
          "text": [
            "/usr/local/lib/python3.7/dist-packages/ipykernel_launcher.py:2: SettingWithCopyWarning: \n",
            "A value is trying to be set on a copy of a slice from a DataFrame.\n",
            "Try using .loc[row_indexer,col_indexer] = value instead\n",
            "\n",
            "See the caveats in the documentation: https://pandas.pydata.org/pandas-docs/stable/user_guide/indexing.html#returning-a-view-versus-a-copy\n",
            "  \n"
          ],
          "name": "stderr"
        }
      ]
    },
    {
      "cell_type": "code",
      "metadata": {
        "id": "brave-contribution",
        "colab": {
          "base_uri": "https://localhost:8080/",
          "height": 204
        },
        "outputId": "19094e16-2e07-42ed-ce05-655904e18f94"
      },
      "source": [
        "df_travels_ubers_2014_clean.head()"
      ],
      "id": "brave-contribution",
      "execution_count": 89,
      "outputs": [
        {
          "output_type": "execute_result",
          "data": {
            "text/html": [
              "<div>\n",
              "<style scoped>\n",
              "    .dataframe tbody tr th:only-of-type {\n",
              "        vertical-align: middle;\n",
              "    }\n",
              "\n",
              "    .dataframe tbody tr th {\n",
              "        vertical-align: top;\n",
              "    }\n",
              "\n",
              "    .dataframe thead th {\n",
              "        text-align: right;\n",
              "    }\n",
              "</style>\n",
              "<table border=\"1\" class=\"dataframe\">\n",
              "  <thead>\n",
              "    <tr style=\"text-align: right;\">\n",
              "      <th></th>\n",
              "      <th>Fecha</th>\n",
              "      <th>Latitud</th>\n",
              "      <th>Longitud</th>\n",
              "      <th>id_base</th>\n",
              "      <th>DiaSemana</th>\n",
              "      <th>Anio</th>\n",
              "      <th>Mes</th>\n",
              "      <th>Dia</th>\n",
              "      <th>Hora</th>\n",
              "      <th>Minuto</th>\n",
              "    </tr>\n",
              "  </thead>\n",
              "  <tbody>\n",
              "    <tr>\n",
              "      <th>0</th>\n",
              "      <td>2014-04-01 00:11:00</td>\n",
              "      <td>40.7690</td>\n",
              "      <td>-73.9549</td>\n",
              "      <td>B02512</td>\n",
              "      <td>Lunes</td>\n",
              "      <td>2014</td>\n",
              "      <td>4</td>\n",
              "      <td>1</td>\n",
              "      <td>0</td>\n",
              "      <td>11</td>\n",
              "    </tr>\n",
              "    <tr>\n",
              "      <th>1</th>\n",
              "      <td>2014-04-01 00:17:00</td>\n",
              "      <td>40.7267</td>\n",
              "      <td>-74.0345</td>\n",
              "      <td>B02512</td>\n",
              "      <td>Lunes</td>\n",
              "      <td>2014</td>\n",
              "      <td>4</td>\n",
              "      <td>1</td>\n",
              "      <td>0</td>\n",
              "      <td>17</td>\n",
              "    </tr>\n",
              "    <tr>\n",
              "      <th>2</th>\n",
              "      <td>2014-04-01 00:21:00</td>\n",
              "      <td>40.7316</td>\n",
              "      <td>-73.9873</td>\n",
              "      <td>B02512</td>\n",
              "      <td>Lunes</td>\n",
              "      <td>2014</td>\n",
              "      <td>4</td>\n",
              "      <td>1</td>\n",
              "      <td>0</td>\n",
              "      <td>21</td>\n",
              "    </tr>\n",
              "    <tr>\n",
              "      <th>3</th>\n",
              "      <td>2014-04-01 00:28:00</td>\n",
              "      <td>40.7588</td>\n",
              "      <td>-73.9776</td>\n",
              "      <td>B02512</td>\n",
              "      <td>Lunes</td>\n",
              "      <td>2014</td>\n",
              "      <td>4</td>\n",
              "      <td>1</td>\n",
              "      <td>0</td>\n",
              "      <td>28</td>\n",
              "    </tr>\n",
              "    <tr>\n",
              "      <th>4</th>\n",
              "      <td>2014-04-01 00:33:00</td>\n",
              "      <td>40.7594</td>\n",
              "      <td>-73.9722</td>\n",
              "      <td>B02512</td>\n",
              "      <td>Lunes</td>\n",
              "      <td>2014</td>\n",
              "      <td>4</td>\n",
              "      <td>1</td>\n",
              "      <td>0</td>\n",
              "      <td>33</td>\n",
              "    </tr>\n",
              "  </tbody>\n",
              "</table>\n",
              "</div>"
            ],
            "text/plain": [
              "                Fecha  Latitud  Longitud id_base  ... Mes  Dia  Hora  Minuto\n",
              "0 2014-04-01 00:11:00  40.7690  -73.9549  B02512  ...   4    1     0      11\n",
              "1 2014-04-01 00:17:00  40.7267  -74.0345  B02512  ...   4    1     0      17\n",
              "2 2014-04-01 00:21:00  40.7316  -73.9873  B02512  ...   4    1     0      21\n",
              "3 2014-04-01 00:28:00  40.7588  -73.9776  B02512  ...   4    1     0      28\n",
              "4 2014-04-01 00:33:00  40.7594  -73.9722  B02512  ...   4    1     0      33\n",
              "\n",
              "[5 rows x 10 columns]"
            ]
          },
          "metadata": {
            "tags": []
          },
          "execution_count": 89
        }
      ]
    },
    {
      "cell_type": "code",
      "metadata": {
        "id": "nutritional-anthropology",
        "colab": {
          "base_uri": "https://localhost:8080/"
        },
        "outputId": "828739fd-4656-4140-931d-4b3c2e25022d"
      },
      "source": [
        "df_travels_ubers_2014_clean.isna().sum()"
      ],
      "id": "nutritional-anthropology",
      "execution_count": 90,
      "outputs": [
        {
          "output_type": "execute_result",
          "data": {
            "text/plain": [
              "Fecha        0\n",
              "Latitud      0\n",
              "Longitud     0\n",
              "id_base      0\n",
              "DiaSemana    0\n",
              "Anio         0\n",
              "Mes          0\n",
              "Dia          0\n",
              "Hora         0\n",
              "Minuto       0\n",
              "dtype: int64"
            ]
          },
          "metadata": {
            "tags": []
          },
          "execution_count": 90
        }
      ]
    },
    {
      "cell_type": "code",
      "metadata": {
        "id": "rolled-anchor",
        "colab": {
          "base_uri": "https://localhost:8080/"
        },
        "outputId": "9eb40638-b3fe-47ad-c7a5-abfc94950646"
      },
      "source": [
        "df_travels_abril_sum_bases = df_travels_ubers_2014_clean.groupby('id_base').size()\n",
        "df_travels_abril_sum_bases.sort_values(ascending=False)"
      ],
      "id": "rolled-anchor",
      "execution_count": 91,
      "outputs": [
        {
          "output_type": "execute_result",
          "data": {
            "text/plain": [
              "id_base\n",
              "B02617    1458853\n",
              "B02598    1393113\n",
              "B02682    1212789\n",
              "B02764     263899\n",
              "B02512     205673\n",
              "dtype: int64"
            ]
          },
          "metadata": {
            "tags": []
          },
          "execution_count": 91
        }
      ]
    },
    {
      "cell_type": "code",
      "metadata": {
        "id": "viral-variation",
        "colab": {
          "base_uri": "https://localhost:8080/"
        },
        "outputId": "e14b3976-5a0a-4dc0-cef0-6e3041e86638"
      },
      "source": [
        "df_travels_abril_sum_hora = df_travels_ubers_2014_clean.groupby('Hora').size()\n",
        "df_travels_abril_sum_hora.sort_values(ascending=False)"
      ],
      "id": "viral-variation",
      "execution_count": 92,
      "outputs": [
        {
          "output_type": "execute_result",
          "data": {
            "text/plain": [
              "Hora\n",
              "17    336190\n",
              "18    324679\n",
              "16    313400\n",
              "19    294513\n",
              "20    284604\n",
              "21    281460\n",
              "15    275466\n",
              "22    241858\n",
              "14    230625\n",
              "13    195877\n",
              "7     193094\n",
              "8     190504\n",
              "12    170452\n",
              "23    169190\n",
              "11    165703\n",
              "9     159967\n",
              "10    159148\n",
              "6     143213\n",
              "0     103836\n",
              "5      83939\n",
              "1      67227\n",
              "4      55230\n",
              "3      48287\n",
              "2      45865\n",
              "dtype: int64"
            ]
          },
          "metadata": {
            "tags": []
          },
          "execution_count": 92
        }
      ]
    },
    {
      "cell_type": "code",
      "metadata": {
        "id": "coupled-yahoo"
      },
      "source": [
        ""
      ],
      "id": "coupled-yahoo",
      "execution_count": null,
      "outputs": []
    }
  ]
}