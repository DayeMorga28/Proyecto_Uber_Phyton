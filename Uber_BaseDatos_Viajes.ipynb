{
 "cells": [
  {
   "cell_type": "code",
   "execution_count": 1,
   "id": "exterior-secondary",
   "metadata": {},
   "outputs": [],
   "source": [
    "##################################################################################\n",
    "#         U B E R   Y   O T R O S   S E R V I C I O S                            #\n",
    "##################################################################################\n"
   ]
  },
  {
   "cell_type": "code",
   "execution_count": 2,
   "id": "superb-quality",
   "metadata": {},
   "outputs": [],
   "source": [
    "# Carga de librerias\n",
    "import pandas as pd\n",
    "from datetime import datetime, timedelta"
   ]
  },
  {
   "cell_type": "code",
   "execution_count": 3,
   "id": "homeless-pavilion",
   "metadata": {},
   "outputs": [
    {
     "data": {
      "text/html": [
       "<div>\n",
       "<style scoped>\n",
       "    .dataframe tbody tr th:only-of-type {\n",
       "        vertical-align: middle;\n",
       "    }\n",
       "\n",
       "    .dataframe tbody tr th {\n",
       "        vertical-align: top;\n",
       "    }\n",
       "\n",
       "    .dataframe thead th {\n",
       "        text-align: right;\n",
       "    }\n",
       "</style>\n",
       "<table border=\"1\" class=\"dataframe\">\n",
       "  <thead>\n",
       "    <tr style=\"text-align: right;\">\n",
       "      <th></th>\n",
       "      <th>Date/Time</th>\n",
       "      <th>Lat</th>\n",
       "      <th>Lon</th>\n",
       "      <th>Base</th>\n",
       "    </tr>\n",
       "  </thead>\n",
       "  <tbody>\n",
       "    <tr>\n",
       "      <th>0</th>\n",
       "      <td>4/1/2014 0:11:00</td>\n",
       "      <td>40.7690</td>\n",
       "      <td>-73.9549</td>\n",
       "      <td>B02512</td>\n",
       "    </tr>\n",
       "    <tr>\n",
       "      <th>1</th>\n",
       "      <td>4/1/2014 0:17:00</td>\n",
       "      <td>40.7267</td>\n",
       "      <td>-74.0345</td>\n",
       "      <td>B02512</td>\n",
       "    </tr>\n",
       "    <tr>\n",
       "      <th>2</th>\n",
       "      <td>4/1/2014 0:21:00</td>\n",
       "      <td>40.7316</td>\n",
       "      <td>-73.9873</td>\n",
       "      <td>B02512</td>\n",
       "    </tr>\n",
       "    <tr>\n",
       "      <th>3</th>\n",
       "      <td>4/1/2014 0:28:00</td>\n",
       "      <td>40.7588</td>\n",
       "      <td>-73.9776</td>\n",
       "      <td>B02512</td>\n",
       "    </tr>\n",
       "    <tr>\n",
       "      <th>4</th>\n",
       "      <td>4/1/2014 0:33:00</td>\n",
       "      <td>40.7594</td>\n",
       "      <td>-73.9722</td>\n",
       "      <td>B02512</td>\n",
       "    </tr>\n",
       "  </tbody>\n",
       "</table>\n",
       "</div>"
      ],
      "text/plain": [
       "          Date/Time      Lat      Lon    Base\n",
       "0  4/1/2014 0:11:00  40.7690 -73.9549  B02512\n",
       "1  4/1/2014 0:17:00  40.7267 -74.0345  B02512\n",
       "2  4/1/2014 0:21:00  40.7316 -73.9873  B02512\n",
       "3  4/1/2014 0:28:00  40.7588 -73.9776  B02512\n",
       "4  4/1/2014 0:33:00  40.7594 -73.9722  B02512"
      ]
     },
     "execution_count": 3,
     "metadata": {},
     "output_type": "execute_result"
    }
   ],
   "source": [
    "# 2. Carga de datos de viajes de abril.\n",
    "df_travels_abril = pd.read_csv('../uber-raw-data-apr14.csv')\n",
    "df_travels_abril.head()"
   ]
  },
  {
   "cell_type": "code",
   "execution_count": 4,
   "id": "chinese-geology",
   "metadata": {},
   "outputs": [
    {
     "data": {
      "text/plain": [
       "Date/Time     object\n",
       "Lat          float64\n",
       "Lon          float64\n",
       "Base          object\n",
       "dtype: object"
      ]
     },
     "execution_count": 4,
     "metadata": {},
     "output_type": "execute_result"
    }
   ],
   "source": [
    "df_travels_abril.dtypes"
   ]
  },
  {
   "cell_type": "code",
   "execution_count": 5,
   "id": "literary-swift",
   "metadata": {},
   "outputs": [],
   "source": [
    "# Renombrando columnas\n",
    "column_name_mapping = {\n",
    "    'Date/Time': 'Fecha',\n",
    "    'Lat': 'Latitud',\n",
    "    'Lon': 'Longitud',\n",
    "    'Base': 'id_base'\n",
    "}"
   ]
  },
  {
   "cell_type": "code",
   "execution_count": 6,
   "id": "split-kitchen",
   "metadata": {},
   "outputs": [
    {
     "data": {
      "text/html": [
       "<div>\n",
       "<style scoped>\n",
       "    .dataframe tbody tr th:only-of-type {\n",
       "        vertical-align: middle;\n",
       "    }\n",
       "\n",
       "    .dataframe tbody tr th {\n",
       "        vertical-align: top;\n",
       "    }\n",
       "\n",
       "    .dataframe thead th {\n",
       "        text-align: right;\n",
       "    }\n",
       "</style>\n",
       "<table border=\"1\" class=\"dataframe\">\n",
       "  <thead>\n",
       "    <tr style=\"text-align: right;\">\n",
       "      <th></th>\n",
       "      <th>Fecha</th>\n",
       "      <th>Latitud</th>\n",
       "      <th>Longitud</th>\n",
       "      <th>id_base</th>\n",
       "    </tr>\n",
       "  </thead>\n",
       "  <tbody>\n",
       "    <tr>\n",
       "      <th>0</th>\n",
       "      <td>4/1/2014 0:11:00</td>\n",
       "      <td>40.7690</td>\n",
       "      <td>-73.9549</td>\n",
       "      <td>B02512</td>\n",
       "    </tr>\n",
       "    <tr>\n",
       "      <th>1</th>\n",
       "      <td>4/1/2014 0:17:00</td>\n",
       "      <td>40.7267</td>\n",
       "      <td>-74.0345</td>\n",
       "      <td>B02512</td>\n",
       "    </tr>\n",
       "    <tr>\n",
       "      <th>2</th>\n",
       "      <td>4/1/2014 0:21:00</td>\n",
       "      <td>40.7316</td>\n",
       "      <td>-73.9873</td>\n",
       "      <td>B02512</td>\n",
       "    </tr>\n",
       "    <tr>\n",
       "      <th>3</th>\n",
       "      <td>4/1/2014 0:28:00</td>\n",
       "      <td>40.7588</td>\n",
       "      <td>-73.9776</td>\n",
       "      <td>B02512</td>\n",
       "    </tr>\n",
       "    <tr>\n",
       "      <th>4</th>\n",
       "      <td>4/1/2014 0:33:00</td>\n",
       "      <td>40.7594</td>\n",
       "      <td>-73.9722</td>\n",
       "      <td>B02512</td>\n",
       "    </tr>\n",
       "    <tr>\n",
       "      <th>...</th>\n",
       "      <td>...</td>\n",
       "      <td>...</td>\n",
       "      <td>...</td>\n",
       "      <td>...</td>\n",
       "    </tr>\n",
       "    <tr>\n",
       "      <th>564511</th>\n",
       "      <td>4/30/2014 23:22:00</td>\n",
       "      <td>40.7640</td>\n",
       "      <td>-73.9744</td>\n",
       "      <td>B02764</td>\n",
       "    </tr>\n",
       "    <tr>\n",
       "      <th>564512</th>\n",
       "      <td>4/30/2014 23:26:00</td>\n",
       "      <td>40.7629</td>\n",
       "      <td>-73.9672</td>\n",
       "      <td>B02764</td>\n",
       "    </tr>\n",
       "    <tr>\n",
       "      <th>564513</th>\n",
       "      <td>4/30/2014 23:31:00</td>\n",
       "      <td>40.7443</td>\n",
       "      <td>-73.9889</td>\n",
       "      <td>B02764</td>\n",
       "    </tr>\n",
       "    <tr>\n",
       "      <th>564514</th>\n",
       "      <td>4/30/2014 23:32:00</td>\n",
       "      <td>40.6756</td>\n",
       "      <td>-73.9405</td>\n",
       "      <td>B02764</td>\n",
       "    </tr>\n",
       "    <tr>\n",
       "      <th>564515</th>\n",
       "      <td>4/30/2014 23:48:00</td>\n",
       "      <td>40.6880</td>\n",
       "      <td>-73.9608</td>\n",
       "      <td>B02764</td>\n",
       "    </tr>\n",
       "  </tbody>\n",
       "</table>\n",
       "<p>564516 rows × 4 columns</p>\n",
       "</div>"
      ],
      "text/plain": [
       "                     Fecha  Latitud  Longitud id_base\n",
       "0         4/1/2014 0:11:00  40.7690  -73.9549  B02512\n",
       "1         4/1/2014 0:17:00  40.7267  -74.0345  B02512\n",
       "2         4/1/2014 0:21:00  40.7316  -73.9873  B02512\n",
       "3         4/1/2014 0:28:00  40.7588  -73.9776  B02512\n",
       "4         4/1/2014 0:33:00  40.7594  -73.9722  B02512\n",
       "...                    ...      ...       ...     ...\n",
       "564511  4/30/2014 23:22:00  40.7640  -73.9744  B02764\n",
       "564512  4/30/2014 23:26:00  40.7629  -73.9672  B02764\n",
       "564513  4/30/2014 23:31:00  40.7443  -73.9889  B02764\n",
       "564514  4/30/2014 23:32:00  40.6756  -73.9405  B02764\n",
       "564515  4/30/2014 23:48:00  40.6880  -73.9608  B02764\n",
       "\n",
       "[564516 rows x 4 columns]"
      ]
     },
     "execution_count": 6,
     "metadata": {},
     "output_type": "execute_result"
    }
   ],
   "source": [
    "df_travels_abril_renamed = df_travels_abril.rename(columns=column_name_mapping)\n",
    "df_travels_abril_renamed"
   ]
  },
  {
   "cell_type": "code",
   "execution_count": 7,
   "id": "diagnostic-possible",
   "metadata": {},
   "outputs": [
    {
     "data": {
      "text/plain": [
       "Fecha        object\n",
       "Latitud     float64\n",
       "Longitud    float64\n",
       "id_base      object\n",
       "dtype: object"
      ]
     },
     "execution_count": 7,
     "metadata": {},
     "output_type": "execute_result"
    }
   ],
   "source": [
    "df_travels_abril_renamed.dtypes"
   ]
  },
  {
   "cell_type": "code",
   "execution_count": 8,
   "id": "amber-printing",
   "metadata": {},
   "outputs": [],
   "source": [
    "# Cambio el tipo de dato de caracter a datetime\n",
    "df_travels_abril_renamed['Fecha'] = pd.to_datetime(df_travels_abril_renamed['Fecha'])"
   ]
  },
  {
   "cell_type": "code",
   "execution_count": 9,
   "id": "lightweight-sponsorship",
   "metadata": {
    "scrolled": true
   },
   "outputs": [
    {
     "data": {
      "text/html": [
       "<div>\n",
       "<style scoped>\n",
       "    .dataframe tbody tr th:only-of-type {\n",
       "        vertical-align: middle;\n",
       "    }\n",
       "\n",
       "    .dataframe tbody tr th {\n",
       "        vertical-align: top;\n",
       "    }\n",
       "\n",
       "    .dataframe thead th {\n",
       "        text-align: right;\n",
       "    }\n",
       "</style>\n",
       "<table border=\"1\" class=\"dataframe\">\n",
       "  <thead>\n",
       "    <tr style=\"text-align: right;\">\n",
       "      <th></th>\n",
       "      <th>Fecha</th>\n",
       "      <th>Latitud</th>\n",
       "      <th>Longitud</th>\n",
       "      <th>id_base</th>\n",
       "    </tr>\n",
       "  </thead>\n",
       "  <tbody>\n",
       "    <tr>\n",
       "      <th>0</th>\n",
       "      <td>2014-04-01 00:11:00</td>\n",
       "      <td>40.7690</td>\n",
       "      <td>-73.9549</td>\n",
       "      <td>B02512</td>\n",
       "    </tr>\n",
       "    <tr>\n",
       "      <th>1</th>\n",
       "      <td>2014-04-01 00:17:00</td>\n",
       "      <td>40.7267</td>\n",
       "      <td>-74.0345</td>\n",
       "      <td>B02512</td>\n",
       "    </tr>\n",
       "    <tr>\n",
       "      <th>2</th>\n",
       "      <td>2014-04-01 00:21:00</td>\n",
       "      <td>40.7316</td>\n",
       "      <td>-73.9873</td>\n",
       "      <td>B02512</td>\n",
       "    </tr>\n",
       "    <tr>\n",
       "      <th>3</th>\n",
       "      <td>2014-04-01 00:28:00</td>\n",
       "      <td>40.7588</td>\n",
       "      <td>-73.9776</td>\n",
       "      <td>B02512</td>\n",
       "    </tr>\n",
       "    <tr>\n",
       "      <th>4</th>\n",
       "      <td>2014-04-01 00:33:00</td>\n",
       "      <td>40.7594</td>\n",
       "      <td>-73.9722</td>\n",
       "      <td>B02512</td>\n",
       "    </tr>\n",
       "  </tbody>\n",
       "</table>\n",
       "</div>"
      ],
      "text/plain": [
       "                Fecha  Latitud  Longitud id_base\n",
       "0 2014-04-01 00:11:00  40.7690  -73.9549  B02512\n",
       "1 2014-04-01 00:17:00  40.7267  -74.0345  B02512\n",
       "2 2014-04-01 00:21:00  40.7316  -73.9873  B02512\n",
       "3 2014-04-01 00:28:00  40.7588  -73.9776  B02512\n",
       "4 2014-04-01 00:33:00  40.7594  -73.9722  B02512"
      ]
     },
     "execution_count": 9,
     "metadata": {},
     "output_type": "execute_result"
    }
   ],
   "source": [
    "df_travels_abril_renamed.head()"
   ]
  },
  {
   "cell_type": "code",
   "execution_count": 10,
   "id": "nuclear-renaissance",
   "metadata": {},
   "outputs": [],
   "source": [
    "def nombre_dia_semana(valor):\n",
    "    \n",
    "    ndia = valor.weekday()\n",
    "    if ndia == 1: return 'Lunes'\n",
    "    elif ndia == 2: return 'Martes'\n",
    "    elif ndia == 3: return 'Miercoles'\n",
    "    elif ndia == 4: return 'Jueves'\n",
    "    elif ndia == 5: return 'Viernes'\n",
    "    elif ndia == 6: return 'Sabado'\n",
    "    else: return 'Domingo'"
   ]
  },
  {
   "cell_type": "code",
   "execution_count": 11,
   "id": "final-pharmaceutical",
   "metadata": {},
   "outputs": [],
   "source": [
    "# Se agrega el campo DiaSemana\n",
    "df_travels_abril_renamed['DiaSemana'] = df_travels_abril_renamed['Fecha'].apply(nombre_dia_semana)"
   ]
  },
  {
   "cell_type": "code",
   "execution_count": 12,
   "id": "built-february",
   "metadata": {},
   "outputs": [],
   "source": [
    "def get_year(valor):\n",
    "    return valor.year\n"
   ]
  },
  {
   "cell_type": "code",
   "execution_count": 13,
   "id": "casual-tomato",
   "metadata": {},
   "outputs": [],
   "source": [
    "# Se agrega el campo Anio\n",
    "df_travels_abril_renamed['Anio'] = df_travels_abril_renamed['Fecha'].apply(get_year)"
   ]
  },
  {
   "cell_type": "code",
   "execution_count": 14,
   "id": "faced-commonwealth",
   "metadata": {},
   "outputs": [],
   "source": [
    "def get_month(valor):\n",
    "    return valor.month"
   ]
  },
  {
   "cell_type": "code",
   "execution_count": 15,
   "id": "aggregate-infrared",
   "metadata": {},
   "outputs": [],
   "source": [
    "# Se agrega el campo Mes\n",
    "df_travels_abril_renamed['Mes'] = df_travels_abril_renamed['Fecha'].apply(get_month)"
   ]
  },
  {
   "cell_type": "code",
   "execution_count": 16,
   "id": "extra-depth",
   "metadata": {},
   "outputs": [],
   "source": [
    "def get_day(valor):\n",
    "    return valor.day"
   ]
  },
  {
   "cell_type": "code",
   "execution_count": 17,
   "id": "divine-disorder",
   "metadata": {},
   "outputs": [],
   "source": [
    "# Se agrega el campo Dia\n",
    "df_travels_abril_renamed['Dia'] = df_travels_abril_renamed['Fecha'].apply(get_day)"
   ]
  },
  {
   "cell_type": "code",
   "execution_count": 18,
   "id": "laughing-demand",
   "metadata": {},
   "outputs": [],
   "source": [
    "def get_hour(valor):\n",
    "    return valor.hour"
   ]
  },
  {
   "cell_type": "code",
   "execution_count": 19,
   "id": "stable-diabetes",
   "metadata": {},
   "outputs": [],
   "source": [
    "# Se agrega el campo Hora\n",
    "df_travels_abril_renamed['Hora'] = df_travels_abril_renamed['Fecha'].apply(get_hour)"
   ]
  },
  {
   "cell_type": "code",
   "execution_count": 20,
   "id": "preceding-aluminum",
   "metadata": {},
   "outputs": [],
   "source": [
    "def get_minute(valor):\n",
    "    return valor.minute"
   ]
  },
  {
   "cell_type": "code",
   "execution_count": 21,
   "id": "treated-novel",
   "metadata": {},
   "outputs": [],
   "source": [
    "# Se agrega el campo Minuto\n",
    "df_travels_abril_renamed['Minuto'] = df_travels_abril_renamed['Fecha'].apply(get_minute)"
   ]
  },
  {
   "cell_type": "code",
   "execution_count": 22,
   "id": "brave-contribution",
   "metadata": {},
   "outputs": [
    {
     "data": {
      "text/html": [
       "<div>\n",
       "<style scoped>\n",
       "    .dataframe tbody tr th:only-of-type {\n",
       "        vertical-align: middle;\n",
       "    }\n",
       "\n",
       "    .dataframe tbody tr th {\n",
       "        vertical-align: top;\n",
       "    }\n",
       "\n",
       "    .dataframe thead th {\n",
       "        text-align: right;\n",
       "    }\n",
       "</style>\n",
       "<table border=\"1\" class=\"dataframe\">\n",
       "  <thead>\n",
       "    <tr style=\"text-align: right;\">\n",
       "      <th></th>\n",
       "      <th>Fecha</th>\n",
       "      <th>Latitud</th>\n",
       "      <th>Longitud</th>\n",
       "      <th>id_base</th>\n",
       "      <th>DiaSemana</th>\n",
       "      <th>Anio</th>\n",
       "      <th>Mes</th>\n",
       "      <th>Dia</th>\n",
       "      <th>Hora</th>\n",
       "      <th>Minuto</th>\n",
       "    </tr>\n",
       "  </thead>\n",
       "  <tbody>\n",
       "    <tr>\n",
       "      <th>0</th>\n",
       "      <td>2014-04-01 00:11:00</td>\n",
       "      <td>40.7690</td>\n",
       "      <td>-73.9549</td>\n",
       "      <td>B02512</td>\n",
       "      <td>Lunes</td>\n",
       "      <td>2014</td>\n",
       "      <td>4</td>\n",
       "      <td>1</td>\n",
       "      <td>0</td>\n",
       "      <td>11</td>\n",
       "    </tr>\n",
       "    <tr>\n",
       "      <th>1</th>\n",
       "      <td>2014-04-01 00:17:00</td>\n",
       "      <td>40.7267</td>\n",
       "      <td>-74.0345</td>\n",
       "      <td>B02512</td>\n",
       "      <td>Lunes</td>\n",
       "      <td>2014</td>\n",
       "      <td>4</td>\n",
       "      <td>1</td>\n",
       "      <td>0</td>\n",
       "      <td>17</td>\n",
       "    </tr>\n",
       "    <tr>\n",
       "      <th>2</th>\n",
       "      <td>2014-04-01 00:21:00</td>\n",
       "      <td>40.7316</td>\n",
       "      <td>-73.9873</td>\n",
       "      <td>B02512</td>\n",
       "      <td>Lunes</td>\n",
       "      <td>2014</td>\n",
       "      <td>4</td>\n",
       "      <td>1</td>\n",
       "      <td>0</td>\n",
       "      <td>21</td>\n",
       "    </tr>\n",
       "    <tr>\n",
       "      <th>3</th>\n",
       "      <td>2014-04-01 00:28:00</td>\n",
       "      <td>40.7588</td>\n",
       "      <td>-73.9776</td>\n",
       "      <td>B02512</td>\n",
       "      <td>Lunes</td>\n",
       "      <td>2014</td>\n",
       "      <td>4</td>\n",
       "      <td>1</td>\n",
       "      <td>0</td>\n",
       "      <td>28</td>\n",
       "    </tr>\n",
       "    <tr>\n",
       "      <th>4</th>\n",
       "      <td>2014-04-01 00:33:00</td>\n",
       "      <td>40.7594</td>\n",
       "      <td>-73.9722</td>\n",
       "      <td>B02512</td>\n",
       "      <td>Lunes</td>\n",
       "      <td>2014</td>\n",
       "      <td>4</td>\n",
       "      <td>1</td>\n",
       "      <td>0</td>\n",
       "      <td>33</td>\n",
       "    </tr>\n",
       "  </tbody>\n",
       "</table>\n",
       "</div>"
      ],
      "text/plain": [
       "                Fecha  Latitud  Longitud id_base DiaSemana  Anio  Mes  Dia  \\\n",
       "0 2014-04-01 00:11:00  40.7690  -73.9549  B02512     Lunes  2014    4    1   \n",
       "1 2014-04-01 00:17:00  40.7267  -74.0345  B02512     Lunes  2014    4    1   \n",
       "2 2014-04-01 00:21:00  40.7316  -73.9873  B02512     Lunes  2014    4    1   \n",
       "3 2014-04-01 00:28:00  40.7588  -73.9776  B02512     Lunes  2014    4    1   \n",
       "4 2014-04-01 00:33:00  40.7594  -73.9722  B02512     Lunes  2014    4    1   \n",
       "\n",
       "   Hora  Minuto  \n",
       "0     0      11  \n",
       "1     0      17  \n",
       "2     0      21  \n",
       "3     0      28  \n",
       "4     0      33  "
      ]
     },
     "execution_count": 22,
     "metadata": {},
     "output_type": "execute_result"
    }
   ],
   "source": [
    "df_travels_abril_renamed.head()"
   ]
  },
  {
   "cell_type": "code",
   "execution_count": 23,
   "id": "nutritional-anthropology",
   "metadata": {},
   "outputs": [
    {
     "data": {
      "text/plain": [
       "Fecha        0\n",
       "Latitud      0\n",
       "Longitud     0\n",
       "id_base      0\n",
       "DiaSemana    0\n",
       "Anio         0\n",
       "Mes          0\n",
       "Dia          0\n",
       "Hora         0\n",
       "Minuto       0\n",
       "dtype: int64"
      ]
     },
     "execution_count": 23,
     "metadata": {},
     "output_type": "execute_result"
    }
   ],
   "source": [
    "df_travels_abril_renamed.isna().sum()"
   ]
  },
  {
   "cell_type": "code",
   "execution_count": 25,
   "id": "rolled-anchor",
   "metadata": {},
   "outputs": [
    {
     "data": {
      "text/plain": [
       "id_base\n",
       "B02682    227808\n",
       "B02598    183263\n",
       "B02617    108001\n",
       "B02512     35536\n",
       "B02764      9908\n",
       "dtype: int64"
      ]
     },
     "execution_count": 25,
     "metadata": {},
     "output_type": "execute_result"
    }
   ],
   "source": [
    "df_travels_abril_sum_bases = df_travels_abril_renamed.groupby('id_base').size()\n",
    "df_travels_abril_sum_bases.sort_values(ascending=False)"
   ]
  },
  {
   "cell_type": "code",
   "execution_count": 26,
   "id": "viral-variation",
   "metadata": {},
   "outputs": [
    {
     "data": {
      "text/plain": [
       "Hora\n",
       "17    45475\n",
       "18    43003\n",
       "16    42003\n",
       "19    38923\n",
       "21    36964\n",
       "20    36244\n",
       "15    35324\n",
       "22    30645\n",
       "14    27190\n",
       "7     24924\n",
       "8     22843\n",
       "13    22603\n",
       "23    20649\n",
       "12    19425\n",
       "11    18774\n",
       "6     18498\n",
       "9     17939\n",
       "10    17865\n",
       "0     11910\n",
       "5      9476\n",
       "1      7769\n",
       "4      6095\n",
       "3      5040\n",
       "2      4935\n",
       "dtype: int64"
      ]
     },
     "execution_count": 26,
     "metadata": {},
     "output_type": "execute_result"
    }
   ],
   "source": [
    "df_travels_abril_sum_hora = df_travels_abril_renamed.groupby('Hora').size()\n",
    "df_travels_abril_sum_hora.sort_values(ascending=False)"
   ]
  },
  {
   "cell_type": "code",
   "execution_count": null,
   "id": "coupled-yahoo",
   "metadata": {},
   "outputs": [],
   "source": []
  }
 ],
 "metadata": {
  "kernelspec": {
   "display_name": "Python 3",
   "language": "python",
   "name": "python3"
  },
  "language_info": {
   "codemirror_mode": {
    "name": "ipython",
    "version": 3
   },
   "file_extension": ".py",
   "mimetype": "text/x-python",
   "name": "python",
   "nbconvert_exporter": "python",
   "pygments_lexer": "ipython3",
   "version": "3.9.2"
  }
 },
 "nbformat": 4,
 "nbformat_minor": 5
}
