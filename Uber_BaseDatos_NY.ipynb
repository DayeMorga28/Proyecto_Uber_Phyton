{
 "cells": [
  {
   "cell_type": "code",
   "execution_count": null,
   "id": "enclosed-george",
   "metadata": {},
   "outputs": [],
   "source": [
    "##################################################################################\n",
    "#         U B E R   Y   O T R O S   S E R V I C I O S                            #\n",
    "##################################################################################\n"
   ]
  },
  {
   "cell_type": "code",
   "execution_count": 4,
   "id": "honey-planner",
   "metadata": {},
   "outputs": [],
   "source": [
    "# Carga de librerias\n",
    "import pandas as pd"
   ]
  },
  {
   "cell_type": "code",
   "execution_count": 5,
   "id": "front-release",
   "metadata": {},
   "outputs": [
    {
     "data": {
      "text/html": [
       "<div>\n",
       "<style scoped>\n",
       "    .dataframe tbody tr th:only-of-type {\n",
       "        vertical-align: middle;\n",
       "    }\n",
       "\n",
       "    .dataframe tbody tr th {\n",
       "        vertical-align: top;\n",
       "    }\n",
       "\n",
       "    .dataframe thead th {\n",
       "        text-align: right;\n",
       "    }\n",
       "</style>\n",
       "<table border=\"1\" class=\"dataframe\">\n",
       "  <thead>\n",
       "    <tr style=\"text-align: right;\">\n",
       "      <th></th>\n",
       "      <th>id_company</th>\n",
       "      <th>name_company</th>\n",
       "    </tr>\n",
       "  </thead>\n",
       "  <tbody>\n",
       "    <tr>\n",
       "      <th>0</th>\n",
       "      <td>1</td>\n",
       "      <td>Uber</td>\n",
       "    </tr>\n",
       "    <tr>\n",
       "      <th>1</th>\n",
       "      <td>2</td>\n",
       "      <td>Skyline</td>\n",
       "    </tr>\n",
       "    <tr>\n",
       "      <th>2</th>\n",
       "      <td>3</td>\n",
       "      <td>Prestige</td>\n",
       "    </tr>\n",
       "    <tr>\n",
       "      <th>3</th>\n",
       "      <td>4</td>\n",
       "      <td>Lyft</td>\n",
       "    </tr>\n",
       "    <tr>\n",
       "      <th>4</th>\n",
       "      <td>5</td>\n",
       "      <td>Highclass</td>\n",
       "    </tr>\n",
       "  </tbody>\n",
       "</table>\n",
       "</div>"
      ],
      "text/plain": [
       "   id_company name_company\n",
       "0           1         Uber\n",
       "1           2      Skyline\n",
       "2           3     Prestige\n",
       "3           4         Lyft\n",
       "4           5    Highclass"
      ]
     },
     "execution_count": 5,
     "metadata": {},
     "output_type": "execute_result"
    }
   ],
   "source": [
    "# 2. Carga de datos de compañias.\n",
    "df_companias = pd.read_csv('../data/Companies.csv')\n",
    "df_companias.head()"
   ]
  },
  {
   "cell_type": "code",
   "execution_count": 6,
   "id": "immune-wales",
   "metadata": {},
   "outputs": [
    {
     "data": {
      "text/plain": [
       "id_company      0\n",
       "name_company    0\n",
       "dtype: int64"
      ]
     },
     "execution_count": 6,
     "metadata": {},
     "output_type": "execute_result"
    }
   ],
   "source": [
    "df_companias.isna().sum() "
   ]
  },
  {
   "cell_type": "code",
   "execution_count": 7,
   "id": "stunning-chancellor",
   "metadata": {},
   "outputs": [
    {
     "data": {
      "text/plain": [
       "id_company       int64\n",
       "name_company    object\n",
       "dtype: object"
      ]
     },
     "execution_count": 7,
     "metadata": {},
     "output_type": "execute_result"
    }
   ],
   "source": [
    "df_companias.dtypes"
   ]
  },
  {
   "cell_type": "code",
   "execution_count": 8,
   "id": "developmental-river",
   "metadata": {},
   "outputs": [
    {
     "data": {
      "text/html": [
       "<div>\n",
       "<style scoped>\n",
       "    .dataframe tbody tr th:only-of-type {\n",
       "        vertical-align: middle;\n",
       "    }\n",
       "\n",
       "    .dataframe tbody tr th {\n",
       "        vertical-align: top;\n",
       "    }\n",
       "\n",
       "    .dataframe thead th {\n",
       "        text-align: right;\n",
       "    }\n",
       "</style>\n",
       "<table border=\"1\" class=\"dataframe\">\n",
       "  <thead>\n",
       "    <tr style=\"text-align: right;\">\n",
       "      <th></th>\n",
       "      <th>id_base</th>\n",
       "      <th>name_base</th>\n",
       "      <th>id_company</th>\n",
       "      <th>number_vehicles</th>\n",
       "    </tr>\n",
       "  </thead>\n",
       "  <tbody>\n",
       "    <tr>\n",
       "      <th>0</th>\n",
       "      <td>B00008</td>\n",
       "      <td>T-D MAINTENANCE CORP</td>\n",
       "      <td>12</td>\n",
       "      <td>122</td>\n",
       "    </tr>\n",
       "    <tr>\n",
       "      <th>1</th>\n",
       "      <td>B00009</td>\n",
       "      <td>T-D MAINTENANCE</td>\n",
       "      <td>12</td>\n",
       "      <td>121</td>\n",
       "    </tr>\n",
       "    <tr>\n",
       "      <th>2</th>\n",
       "      <td>B00013</td>\n",
       "      <td>LOVE CORP CAR INC</td>\n",
       "      <td>12</td>\n",
       "      <td>181</td>\n",
       "    </tr>\n",
       "    <tr>\n",
       "      <th>3</th>\n",
       "      <td>B00014</td>\n",
       "      <td>NY ONE CORP CAR INC</td>\n",
       "      <td>12</td>\n",
       "      <td>181</td>\n",
       "    </tr>\n",
       "    <tr>\n",
       "      <th>4</th>\n",
       "      <td>B00021</td>\n",
       "      <td>MEXICANA HIGH CLASS INC.</td>\n",
       "      <td>12</td>\n",
       "      <td>31</td>\n",
       "    </tr>\n",
       "  </tbody>\n",
       "</table>\n",
       "</div>"
      ],
      "text/plain": [
       "  id_base                 name_base  id_company  number_vehicles\n",
       "0  B00008      T-D MAINTENANCE CORP          12              122\n",
       "1  B00009           T-D MAINTENANCE          12              121\n",
       "2  B00013         LOVE CORP CAR INC          12              181\n",
       "3  B00014       NY ONE CORP CAR INC          12              181\n",
       "4  B00021  MEXICANA HIGH CLASS INC.          12               31"
      ]
     },
     "execution_count": 8,
     "metadata": {},
     "output_type": "execute_result"
    }
   ],
   "source": [
    "# Carga de datos de bases de taxis.\n",
    "df_bases_taxi = pd.read_csv('../data/NYCBases.csv')\n",
    "df_bases_taxi.head()"
   ]
  },
  {
   "cell_type": "code",
   "execution_count": 9,
   "id": "accurate-exemption",
   "metadata": {},
   "outputs": [
    {
     "data": {
      "text/plain": [
       "id_base            object\n",
       "name_base          object\n",
       "id_company          int64\n",
       "number_vehicles     int64\n",
       "dtype: object"
      ]
     },
     "execution_count": 9,
     "metadata": {},
     "output_type": "execute_result"
    }
   ],
   "source": [
    "df_bases_taxi.dtypes"
   ]
  },
  {
   "cell_type": "code",
   "execution_count": 10,
   "id": "sized-conviction",
   "metadata": {},
   "outputs": [
    {
     "data": {
      "text/plain": [
       "id_base             0\n",
       "name_base          13\n",
       "id_company          0\n",
       "number_vehicles     0\n",
       "dtype: int64"
      ]
     },
     "execution_count": 10,
     "metadata": {},
     "output_type": "execute_result"
    }
   ],
   "source": [
    "df_bases_taxi.isna().sum() "
   ]
  },
  {
   "cell_type": "code",
   "execution_count": 29,
   "id": "guilty-tragedy",
   "metadata": {},
   "outputs": [],
   "source": [
    "df_bases_taxi['name_base'] = df_bases_taxi['name_base'].fillna('Unknown')"
   ]
  },
  {
   "cell_type": "code",
   "execution_count": 12,
   "id": "bottom-concern",
   "metadata": {},
   "outputs": [
    {
     "data": {
      "text/plain": [
       "id_base            0\n",
       "name_base          0\n",
       "id_company         0\n",
       "number_vehicles    0\n",
       "dtype: int64"
      ]
     },
     "execution_count": 12,
     "metadata": {},
     "output_type": "execute_result"
    }
   ],
   "source": [
    "df_bases_taxi.isna().sum() "
   ]
  },
  {
   "cell_type": "code",
   "execution_count": null,
   "id": "norwegian-forth",
   "metadata": {},
   "outputs": [],
   "source": [
    "#Uniendo datos de compañias y bases"
   ]
  },
  {
   "cell_type": "code",
   "execution_count": 15,
   "id": "retired-adventure",
   "metadata": {},
   "outputs": [],
   "source": [
    "df_bases_taxi_full = pd.merge(df_bases_taxi, df_companias['name_company'], left_on='id_company', right_index=True).sort_index()"
   ]
  },
  {
   "cell_type": "code",
   "execution_count": 17,
   "id": "friendly-mount",
   "metadata": {},
   "outputs": [
    {
     "data": {
      "text/html": [
       "<div>\n",
       "<style scoped>\n",
       "    .dataframe tbody tr th:only-of-type {\n",
       "        vertical-align: middle;\n",
       "    }\n",
       "\n",
       "    .dataframe tbody tr th {\n",
       "        vertical-align: top;\n",
       "    }\n",
       "\n",
       "    .dataframe thead th {\n",
       "        text-align: right;\n",
       "    }\n",
       "</style>\n",
       "<table border=\"1\" class=\"dataframe\">\n",
       "  <thead>\n",
       "    <tr style=\"text-align: right;\">\n",
       "      <th></th>\n",
       "      <th>id_base</th>\n",
       "      <th>name_base</th>\n",
       "      <th>id_company</th>\n",
       "      <th>number_vehicles</th>\n",
       "      <th>name_company</th>\n",
       "    </tr>\n",
       "  </thead>\n",
       "  <tbody>\n",
       "    <tr>\n",
       "      <th>14</th>\n",
       "      <td>B00111</td>\n",
       "      <td>Desconocido</td>\n",
       "      <td>2</td>\n",
       "      <td>55</td>\n",
       "      <td>Prestige</td>\n",
       "    </tr>\n",
       "    <tr>\n",
       "      <th>28</th>\n",
       "      <td>B00256</td>\n",
       "      <td>Desconocido</td>\n",
       "      <td>10</td>\n",
       "      <td>92</td>\n",
       "      <td>American</td>\n",
       "    </tr>\n",
       "    <tr>\n",
       "      <th>63</th>\n",
       "      <td>B00887</td>\n",
       "      <td>DIAL 7 CAR &amp; LIMOUSINE SERVICE INC.</td>\n",
       "      <td>9</td>\n",
       "      <td>59</td>\n",
       "      <td>Carmel</td>\n",
       "    </tr>\n",
       "    <tr>\n",
       "      <th>92</th>\n",
       "      <td>B01196</td>\n",
       "      <td>Desconocido</td>\n",
       "      <td>8</td>\n",
       "      <td>76</td>\n",
       "      <td>Dial7</td>\n",
       "    </tr>\n",
       "    <tr>\n",
       "      <th>113</th>\n",
       "      <td>B01338</td>\n",
       "      <td>Desconocido</td>\n",
       "      <td>3</td>\n",
       "      <td>67</td>\n",
       "      <td>Lyft</td>\n",
       "    </tr>\n",
       "  </tbody>\n",
       "</table>\n",
       "</div>"
      ],
      "text/plain": [
       "    id_base                            name_base  id_company  number_vehicles  \\\n",
       "14   B00111                          Desconocido           2               55   \n",
       "28   B00256                          Desconocido          10               92   \n",
       "63   B00887  DIAL 7 CAR & LIMOUSINE SERVICE INC.           9               59   \n",
       "92   B01196                          Desconocido           8               76   \n",
       "113  B01338                          Desconocido           3               67   \n",
       "\n",
       "    name_company  \n",
       "14      Prestige  \n",
       "28      American  \n",
       "63        Carmel  \n",
       "92         Dial7  \n",
       "113         Lyft  "
      ]
     },
     "execution_count": 17,
     "metadata": {},
     "output_type": "execute_result"
    }
   ],
   "source": [
    "df_bases_taxi_full.head()"
   ]
  },
  {
   "cell_type": "code",
   "execution_count": 19,
   "id": "dietary-jason",
   "metadata": {},
   "outputs": [
    {
     "data": {
      "text/plain": [
       "id_base            object\n",
       "name_base          object\n",
       "id_company          int64\n",
       "number_vehicles     int64\n",
       "name_company       object\n",
       "dtype: object"
      ]
     },
     "execution_count": 19,
     "metadata": {},
     "output_type": "execute_result"
    }
   ],
   "source": [
    "df_bases_taxi_full.dtypes"
   ]
  },
  {
   "cell_type": "code",
   "execution_count": 27,
   "id": "judicial-award",
   "metadata": {},
   "outputs": [
    {
     "data": {
      "text/plain": [
       "name_company     id_base  number_vehicles\n",
       "American         B00256   92                 1\n",
       "Carmel           B00887   59                 1\n",
       "Dial7            B01196   76                 1\n",
       "Diplo            B02216   45                 1\n",
       "Federal          B01536   35                 1\n",
       "Firstclass       B01717   71                 1\n",
       "Highclass        B02510   45                 1\n",
       "Lyft             B01338   67                 1\n",
       "Other companies  B01362   61                 1\n",
       "Prestige         B00111   55                 1\n",
       "Skyline          B02512   57                 1\n",
       "                 B02598   24                 1\n",
       "                 B02617   36                 1\n",
       "                 B02682   32                 1\n",
       "                 B02764   29                 1\n",
       "Name: number_vehicles, dtype: int64"
      ]
     },
     "execution_count": 27,
     "metadata": {},
     "output_type": "execute_result"
    }
   ],
   "source": [
    "df_bases_taxi_full.groupby(['name_company','id_base'])['number_vehicles'].value_counts()"
   ]
  },
  {
   "cell_type": "code",
   "execution_count": 28,
   "id": "described-narrative",
   "metadata": {},
   "outputs": [
    {
     "data": {
      "text/html": [
       "<div>\n",
       "<style scoped>\n",
       "    .dataframe tbody tr th:only-of-type {\n",
       "        vertical-align: middle;\n",
       "    }\n",
       "\n",
       "    .dataframe tbody tr th {\n",
       "        vertical-align: top;\n",
       "    }\n",
       "\n",
       "    .dataframe thead th {\n",
       "        text-align: right;\n",
       "    }\n",
       "</style>\n",
       "<table border=\"1\" class=\"dataframe\">\n",
       "  <thead>\n",
       "    <tr style=\"text-align: right;\">\n",
       "      <th></th>\n",
       "      <th>id_base</th>\n",
       "      <th>name_base</th>\n",
       "      <th>id_company</th>\n",
       "      <th>number_vehicles</th>\n",
       "      <th>name_company</th>\n",
       "    </tr>\n",
       "  </thead>\n",
       "  <tbody>\n",
       "    <tr>\n",
       "      <th>14</th>\n",
       "      <td>B00111</td>\n",
       "      <td>Desconocido</td>\n",
       "      <td>2</td>\n",
       "      <td>55</td>\n",
       "      <td>Prestige</td>\n",
       "    </tr>\n",
       "    <tr>\n",
       "      <th>28</th>\n",
       "      <td>B00256</td>\n",
       "      <td>Desconocido</td>\n",
       "      <td>10</td>\n",
       "      <td>92</td>\n",
       "      <td>American</td>\n",
       "    </tr>\n",
       "    <tr>\n",
       "      <th>63</th>\n",
       "      <td>B00887</td>\n",
       "      <td>DIAL 7 CAR &amp; LIMOUSINE SERVICE INC.</td>\n",
       "      <td>9</td>\n",
       "      <td>59</td>\n",
       "      <td>Carmel</td>\n",
       "    </tr>\n",
       "    <tr>\n",
       "      <th>92</th>\n",
       "      <td>B01196</td>\n",
       "      <td>Desconocido</td>\n",
       "      <td>8</td>\n",
       "      <td>76</td>\n",
       "      <td>Dial7</td>\n",
       "    </tr>\n",
       "    <tr>\n",
       "      <th>113</th>\n",
       "      <td>B01338</td>\n",
       "      <td>Desconocido</td>\n",
       "      <td>3</td>\n",
       "      <td>67</td>\n",
       "      <td>Lyft</td>\n",
       "    </tr>\n",
       "    <tr>\n",
       "      <th>119</th>\n",
       "      <td>B01362</td>\n",
       "      <td>AMERICAN BASE NO.1 INC</td>\n",
       "      <td>11</td>\n",
       "      <td>61</td>\n",
       "      <td>Other companies</td>\n",
       "    </tr>\n",
       "    <tr>\n",
       "      <th>138</th>\n",
       "      <td>B01536</td>\n",
       "      <td>Desconocido</td>\n",
       "      <td>6</td>\n",
       "      <td>35</td>\n",
       "      <td>Federal</td>\n",
       "    </tr>\n",
       "    <tr>\n",
       "      <th>159</th>\n",
       "      <td>B01717</td>\n",
       "      <td>Desconocido</td>\n",
       "      <td>5</td>\n",
       "      <td>71</td>\n",
       "      <td>Firstclass</td>\n",
       "    </tr>\n",
       "    <tr>\n",
       "      <th>228</th>\n",
       "      <td>B02216</td>\n",
       "      <td>Desconocido</td>\n",
       "      <td>7</td>\n",
       "      <td>45</td>\n",
       "      <td>Diplo</td>\n",
       "    </tr>\n",
       "    <tr>\n",
       "      <th>265</th>\n",
       "      <td>B02510</td>\n",
       "      <td>Desconocido</td>\n",
       "      <td>4</td>\n",
       "      <td>45</td>\n",
       "      <td>Highclass</td>\n",
       "    </tr>\n",
       "    <tr>\n",
       "      <th>267</th>\n",
       "      <td>B02512</td>\n",
       "      <td>Desconocido</td>\n",
       "      <td>1</td>\n",
       "      <td>57</td>\n",
       "      <td>Skyline</td>\n",
       "    </tr>\n",
       "    <tr>\n",
       "      <th>285</th>\n",
       "      <td>B02598</td>\n",
       "      <td>Desconocido</td>\n",
       "      <td>1</td>\n",
       "      <td>24</td>\n",
       "      <td>Skyline</td>\n",
       "    </tr>\n",
       "    <tr>\n",
       "      <th>289</th>\n",
       "      <td>B02617</td>\n",
       "      <td>Desconocido</td>\n",
       "      <td>1</td>\n",
       "      <td>36</td>\n",
       "      <td>Skyline</td>\n",
       "    </tr>\n",
       "    <tr>\n",
       "      <th>308</th>\n",
       "      <td>B02682</td>\n",
       "      <td>Desconocido</td>\n",
       "      <td>1</td>\n",
       "      <td>32</td>\n",
       "      <td>Skyline</td>\n",
       "    </tr>\n",
       "    <tr>\n",
       "      <th>330</th>\n",
       "      <td>B02764</td>\n",
       "      <td>Desconocido</td>\n",
       "      <td>1</td>\n",
       "      <td>29</td>\n",
       "      <td>Skyline</td>\n",
       "    </tr>\n",
       "  </tbody>\n",
       "</table>\n",
       "</div>"
      ],
      "text/plain": [
       "    id_base                            name_base  id_company  number_vehicles  \\\n",
       "14   B00111                          Desconocido           2               55   \n",
       "28   B00256                          Desconocido          10               92   \n",
       "63   B00887  DIAL 7 CAR & LIMOUSINE SERVICE INC.           9               59   \n",
       "92   B01196                          Desconocido           8               76   \n",
       "113  B01338                          Desconocido           3               67   \n",
       "119  B01362               AMERICAN BASE NO.1 INC          11               61   \n",
       "138  B01536                          Desconocido           6               35   \n",
       "159  B01717                          Desconocido           5               71   \n",
       "228  B02216                          Desconocido           7               45   \n",
       "265  B02510                          Desconocido           4               45   \n",
       "267  B02512                          Desconocido           1               57   \n",
       "285  B02598                          Desconocido           1               24   \n",
       "289  B02617                          Desconocido           1               36   \n",
       "308  B02682                          Desconocido           1               32   \n",
       "330  B02764                          Desconocido           1               29   \n",
       "\n",
       "        name_company  \n",
       "14          Prestige  \n",
       "28          American  \n",
       "63            Carmel  \n",
       "92             Dial7  \n",
       "113             Lyft  \n",
       "119  Other companies  \n",
       "138          Federal  \n",
       "159       Firstclass  \n",
       "228            Diplo  \n",
       "265        Highclass  \n",
       "267          Skyline  \n",
       "285          Skyline  \n",
       "289          Skyline  \n",
       "308          Skyline  \n",
       "330          Skyline  "
      ]
     },
     "execution_count": 28,
     "metadata": {},
     "output_type": "execute_result"
    }
   ],
   "source": [
    "df_bases_taxi_full"
   ]
  },
  {
   "cell_type": "code",
   "execution_count": null,
   "id": "twenty-quality",
   "metadata": {},
   "outputs": [],
   "source": []
  }
 ],
 "metadata": {
  "kernelspec": {
   "display_name": "Python 3",
   "language": "python",
   "name": "python3"
  },
  "language_info": {
   "codemirror_mode": {
    "name": "ipython",
    "version": 3
   },
   "file_extension": ".py",
   "mimetype": "text/x-python",
   "name": "python",
   "nbconvert_exporter": "python",
   "pygments_lexer": "ipython3",
   "version": "3.9.2"
  }
 },
 "nbformat": 4,
 "nbformat_minor": 5
}
